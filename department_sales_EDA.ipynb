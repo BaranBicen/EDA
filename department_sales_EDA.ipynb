{
 "cells": [
  {
   "cell_type": "code",
   "execution_count": 1,
   "id": "662fdacb",
   "metadata": {},
   "outputs": [],
   "source": [
    "import pandas as pd\n",
    "import matplotlib.pyplot as plt"
   ]
  },
  {
   "cell_type": "code",
   "execution_count": 2,
   "id": "c8836ecc",
   "metadata": {},
   "outputs": [],
   "source": [
    "df = pd.read_csv(\"CSV\\department-sales.csv\")"
   ]
  },
  {
   "cell_type": "markdown",
   "id": "c23500f7",
   "metadata": {},
   "source": [
    "## Overwiev"
   ]
  },
  {
   "cell_type": "code",
   "execution_count": 3,
   "id": "da04f3b1",
   "metadata": {},
   "outputs": [
    {
     "data": {
      "text/html": [
       "<div>\n",
       "<style scoped>\n",
       "    .dataframe tbody tr th:only-of-type {\n",
       "        vertical-align: middle;\n",
       "    }\n",
       "\n",
       "    .dataframe tbody tr th {\n",
       "        vertical-align: top;\n",
       "    }\n",
       "\n",
       "    .dataframe thead th {\n",
       "        text-align: right;\n",
       "    }\n",
       "</style>\n",
       "<table border=\"1\" class=\"dataframe\">\n",
       "  <thead>\n",
       "    <tr style=\"text-align: right;\">\n",
       "      <th></th>\n",
       "      <th>CompanyName</th>\n",
       "      <th>Industry</th>\n",
       "      <th>Department</th>\n",
       "      <th>YearOfEstablishment</th>\n",
       "      <th>NetSales($mln.)</th>\n",
       "      <th>CostOfSales($mln.)</th>\n",
       "    </tr>\n",
       "  </thead>\n",
       "  <tbody>\n",
       "    <tr>\n",
       "      <th>0</th>\n",
       "      <td>Company \"A1\"</td>\n",
       "      <td>Mining</td>\n",
       "      <td>dept-a1-01</td>\n",
       "      <td>1985</td>\n",
       "      <td>1719</td>\n",
       "      <td>1735</td>\n",
       "    </tr>\n",
       "    <tr>\n",
       "      <th>1</th>\n",
       "      <td>Company \"A1\"</td>\n",
       "      <td>Mining</td>\n",
       "      <td>dept-a1-02</td>\n",
       "      <td>1985</td>\n",
       "      <td>1291</td>\n",
       "      <td>947</td>\n",
       "    </tr>\n",
       "    <tr>\n",
       "      <th>2</th>\n",
       "      <td>Company \"A1\"</td>\n",
       "      <td>Mining</td>\n",
       "      <td>dept-a1-03</td>\n",
       "      <td>1985</td>\n",
       "      <td>1702</td>\n",
       "      <td>508</td>\n",
       "    </tr>\n",
       "    <tr>\n",
       "      <th>3</th>\n",
       "      <td>Company \"A1\"</td>\n",
       "      <td>Mining</td>\n",
       "      <td>dept-a1-04</td>\n",
       "      <td>1985</td>\n",
       "      <td>1008</td>\n",
       "      <td>468</td>\n",
       "    </tr>\n",
       "    <tr>\n",
       "      <th>4</th>\n",
       "      <td>Company \"A1\"</td>\n",
       "      <td>Mining</td>\n",
       "      <td>dept-a1-05</td>\n",
       "      <td>1985</td>\n",
       "      <td>2058</td>\n",
       "      <td>469</td>\n",
       "    </tr>\n",
       "  </tbody>\n",
       "</table>\n",
       "</div>"
      ],
      "text/plain": [
       "    CompanyName Industry  Department  YearOfEstablishment  NetSales($mln.)  \\\n",
       "0  Company \"A1\"   Mining  dept-a1-01                 1985             1719   \n",
       "1  Company \"A1\"   Mining  dept-a1-02                 1985             1291   \n",
       "2  Company \"A1\"   Mining  dept-a1-03                 1985             1702   \n",
       "3  Company \"A1\"   Mining  dept-a1-04                 1985             1008   \n",
       "4  Company \"A1\"   Mining  dept-a1-05                 1985             2058   \n",
       "\n",
       "   CostOfSales($mln.)  \n",
       "0                1735  \n",
       "1                 947  \n",
       "2                 508  \n",
       "3                 468  \n",
       "4                 469  "
      ]
     },
     "execution_count": 3,
     "metadata": {},
     "output_type": "execute_result"
    }
   ],
   "source": [
    "df.head()"
   ]
  },
  {
   "cell_type": "code",
   "execution_count": 4,
   "id": "d9cef436",
   "metadata": {},
   "outputs": [
    {
     "data": {
      "text/plain": [
       "Index(['CompanyName', 'Industry', 'Department', 'YearOfEstablishment',\n",
       "       'NetSales($mln.)', 'CostOfSales($mln.)'],\n",
       "      dtype='object')"
      ]
     },
     "execution_count": 4,
     "metadata": {},
     "output_type": "execute_result"
    }
   ],
   "source": [
    "df.columns"
   ]
  },
  {
   "cell_type": "code",
   "execution_count": 5,
   "id": "6bca5f24",
   "metadata": {},
   "outputs": [
    {
     "data": {
      "text/plain": [
       "(500, 6)"
      ]
     },
     "execution_count": 5,
     "metadata": {},
     "output_type": "execute_result"
    }
   ],
   "source": [
    "df.shape"
   ]
  },
  {
   "cell_type": "markdown",
   "id": "b7795c1c",
   "metadata": {},
   "source": [
    "The writing of the NetSales and CostOfSales columns will be anoying so lets change their names"
   ]
  },
  {
   "cell_type": "code",
   "execution_count": 6,
   "id": "784a8fa0",
   "metadata": {},
   "outputs": [],
   "source": [
    "df = df.rename(columns = {\"NetSales($mln.)\":\"NetSales\",\"CostOfSales($mln.)\":\"CostofSales\"})"
   ]
  },
  {
   "cell_type": "code",
   "execution_count": 7,
   "id": "8064c1ab",
   "metadata": {},
   "outputs": [
    {
     "data": {
      "text/html": [
       "<div>\n",
       "<style scoped>\n",
       "    .dataframe tbody tr th:only-of-type {\n",
       "        vertical-align: middle;\n",
       "    }\n",
       "\n",
       "    .dataframe tbody tr th {\n",
       "        vertical-align: top;\n",
       "    }\n",
       "\n",
       "    .dataframe thead th {\n",
       "        text-align: right;\n",
       "    }\n",
       "</style>\n",
       "<table border=\"1\" class=\"dataframe\">\n",
       "  <thead>\n",
       "    <tr style=\"text-align: right;\">\n",
       "      <th></th>\n",
       "      <th>NetSales</th>\n",
       "      <th>CostofSales</th>\n",
       "    </tr>\n",
       "  </thead>\n",
       "  <tbody>\n",
       "    <tr>\n",
       "      <th>count</th>\n",
       "      <td>500.000000</td>\n",
       "      <td>500.000000</td>\n",
       "    </tr>\n",
       "    <tr>\n",
       "      <th>mean</th>\n",
       "      <td>1421.602000</td>\n",
       "      <td>1112.720000</td>\n",
       "    </tr>\n",
       "    <tr>\n",
       "      <th>std</th>\n",
       "      <td>517.660886</td>\n",
       "      <td>377.842087</td>\n",
       "    </tr>\n",
       "    <tr>\n",
       "      <th>min</th>\n",
       "      <td>504.000000</td>\n",
       "      <td>452.000000</td>\n",
       "    </tr>\n",
       "    <tr>\n",
       "      <th>25%</th>\n",
       "      <td>964.500000</td>\n",
       "      <td>795.750000</td>\n",
       "    </tr>\n",
       "    <tr>\n",
       "      <th>50%</th>\n",
       "      <td>1437.500000</td>\n",
       "      <td>1111.500000</td>\n",
       "    </tr>\n",
       "    <tr>\n",
       "      <th>75%</th>\n",
       "      <td>1861.250000</td>\n",
       "      <td>1418.000000</td>\n",
       "    </tr>\n",
       "    <tr>\n",
       "      <th>max</th>\n",
       "      <td>2352.000000</td>\n",
       "      <td>1750.000000</td>\n",
       "    </tr>\n",
       "  </tbody>\n",
       "</table>\n",
       "</div>"
      ],
      "text/plain": [
       "          NetSales  CostofSales\n",
       "count   500.000000   500.000000\n",
       "mean   1421.602000  1112.720000\n",
       "std     517.660886   377.842087\n",
       "min     504.000000   452.000000\n",
       "25%     964.500000   795.750000\n",
       "50%    1437.500000  1111.500000\n",
       "75%    1861.250000  1418.000000\n",
       "max    2352.000000  1750.000000"
      ]
     },
     "execution_count": 7,
     "metadata": {},
     "output_type": "execute_result"
    }
   ],
   "source": [
    "df[[\"NetSales\",\"CostofSales\"]].describe()"
   ]
  },
  {
   "cell_type": "code",
   "execution_count": 8,
   "id": "1907d36c",
   "metadata": {},
   "outputs": [
    {
     "data": {
      "text/plain": [
       "CompanyName            0\n",
       "Industry               0\n",
       "Department             0\n",
       "YearOfEstablishment    0\n",
       "NetSales               0\n",
       "CostofSales            0\n",
       "dtype: int64"
      ]
     },
     "execution_count": 8,
     "metadata": {},
     "output_type": "execute_result"
    }
   ],
   "source": [
    "df.isnull().sum()"
   ]
  },
  {
   "cell_type": "markdown",
   "id": "a7641648",
   "metadata": {},
   "source": [
    "There is no null(or na) values so no need to drop any rows"
   ]
  },
  {
   "cell_type": "code",
   "execution_count": 9,
   "id": "a47ef656",
   "metadata": {},
   "outputs": [
    {
     "data": {
      "text/plain": [
       "array(['Company \"A1\"', 'Company \"A2\"', 'Company \"B1\"', 'Company \"B2\"',\n",
       "       'Company \"B3\"', 'Company \"C\"'], dtype=object)"
      ]
     },
     "execution_count": 9,
     "metadata": {},
     "output_type": "execute_result"
    }
   ],
   "source": [
    "df[\"CompanyName\"].unique()"
   ]
  },
  {
   "cell_type": "code",
   "execution_count": 10,
   "id": "5feb518c",
   "metadata": {},
   "outputs": [
    {
     "data": {
      "text/plain": [
       "array(['Mining', 'Food Industry', 'Construction', 'Utilities',\n",
       "       'Electronics', 'Communications', 'Media',\n",
       "       'Pharmaceutical Industry'], dtype=object)"
      ]
     },
     "execution_count": 10,
     "metadata": {},
     "output_type": "execute_result"
    }
   ],
   "source": [
    "df[\"Industry\"].unique()"
   ]
  },
  {
   "cell_type": "code",
   "execution_count": 11,
   "id": "4ab443f2",
   "metadata": {},
   "outputs": [
    {
     "data": {
      "text/plain": [
       "array(['dept-a1-01', 'dept-a1-02', 'dept-a1-03', 'dept-a1-04',\n",
       "       'dept-a1-05', 'dept-a1-06', 'dept-a1-07', 'dept-a1-08',\n",
       "       'dept-a1-09', 'dept-a1-10', 'dept-a1-11', 'dept-a1-12',\n",
       "       'dept-a1-13', 'dept-a1-14', 'dept-a1-15', 'dept-a1-16',\n",
       "       'dept-a1-17', 'dept-a1-18', 'dept-a1-19', 'dept-a1-20',\n",
       "       'dept-a1-21', 'dept-a1-22', 'dept-a1-23', 'dept-a1-24',\n",
       "       'dept-a1-25', 'dept-a1-26', 'dept-a1-27', 'dept-a1-28',\n",
       "       'dept-a1-29', 'dept-a1-30', 'dept-a1-31', 'dept-a1-32',\n",
       "       'dept-a1-33', 'dept-a1-34', 'dept-a1-35', 'dept-a1-36',\n",
       "       'dept-a1-37', 'dept-a1-38', 'dept-a1-39', 'dept-a1-40',\n",
       "       'dept-a1-41', 'dept-a1-42', 'dept-a1-43', 'dept-a1-44',\n",
       "       'dept-a1-45', 'dept-a1-46', 'dept-a1-47', 'dept-a1-48',\n",
       "       'dept-a1-49', 'dept-a1-50', 'dept-a1-51', 'dept-a1-52',\n",
       "       'dept-a1-53', 'dept-a1-54', 'dept-a1-55', 'dept-a1-56',\n",
       "       'dept-a1-57', 'dept-a1-58', 'dept-a1-59', 'dept-a1-60',\n",
       "       'dept-a1-61', 'dept-a1-62', 'dept-a1-63', 'dept-a1-64',\n",
       "       'dept-a1-65', 'dept-a1-66', 'dept-a1-67', 'dept-a1-68',\n",
       "       'dept-a1-69', 'dept-a1-70', 'dept-a1-71', 'dept-a1-72',\n",
       "       'dept-a1-73', 'dept-a2-01', 'dept-a2-02', 'dept-a2-03',\n",
       "       'dept-a2-04', 'dept-a2-05', 'dept-a2-06', 'dept-a2-07',\n",
       "       'dept-a2-08', 'dept-a2-09', 'dept-a2-10', 'dept-a2-11',\n",
       "       'dept-a2-12', 'dept-a2-13', 'dept-a2-14', 'dept-a2-15',\n",
       "       'dept-a2-16', 'dept-a2-17', 'dept-a2-18', 'dept-a2-19',\n",
       "       'dept-a2-20', 'dept-a2-21', 'dept-a2-22', 'dept-a2-23',\n",
       "       'dept-a2-24', 'dept-a2-25', 'dept-a2-26', 'dept-a2-27',\n",
       "       'dept-a2-28', 'dept-a2-29', 'dept-a2-30', 'dept-a2-31',\n",
       "       'dept-a2-32', 'dept-a2-33', 'dept-a2-34', 'dept-a2-35',\n",
       "       'dept-a2-36', 'dept-a2-37', 'dept-a2-38', 'dept-a2-39',\n",
       "       'dept-a2-40', 'dept-a2-41', 'dept-a2-42', 'dept-a2-43',\n",
       "       'dept-a2-44', 'dept-a2-45', 'dept-a2-46', 'dept-a2-47',\n",
       "       'dept-a2-48', 'dept-a2-49', 'dept-a2-50', 'dept-a2-51',\n",
       "       'dept-a2-52', 'dept-a2-53', 'dept-a2-54', 'dept-a2-55',\n",
       "       'dept-a2-56', 'dept-a2-57', 'dept-a2-58', 'dept-a2-59',\n",
       "       'dept-a2-60', 'dept-a2-61', 'dept-a2-62', 'dept-a2-63',\n",
       "       'dept-a2-64', 'dept-a2-65', 'dept-a2-66', 'dept-a2-67',\n",
       "       'dept-a2-68', 'dept-a2-69', 'dept-b1-01', 'dept-b1-02',\n",
       "       'dept-b1-03', 'dept-b1-04', 'dept-b1-05', 'dept-b1-06',\n",
       "       'dept-b1-07', 'dept-b1-08', 'dept-b1-09', 'dept-b1-10',\n",
       "       'dept-b1-11', 'dept-b1-12', 'dept-b1-13', 'dept-b1-14',\n",
       "       'dept-b1-15', 'dept-b1-16', 'dept-b1-17', 'dept-b1-18',\n",
       "       'dept-b1-19', 'dept-b1-20', 'dept-b1-21', 'dept-b1-22',\n",
       "       'dept-b1-23', 'dept-b1-24', 'dept-b1-25', 'dept-b1-26',\n",
       "       'dept-b1-27', 'dept-b1-28', 'dept-b1-29', 'dept-b1-30',\n",
       "       'dept-b1-31', 'dept-b1-32', 'dept-b1-33', 'dept-b1-34',\n",
       "       'dept-b1-35', 'dept-b1-36', 'dept-b1-37', 'dept-b1-38',\n",
       "       'dept-b1-39', 'dept-b1-40', 'dept-b1-41', 'dept-b1-42',\n",
       "       'dept-b1-43', 'dept-b1-44', 'dept-b1-45', 'dept-b1-46',\n",
       "       'dept-b1-47', 'dept-b1-48', 'dept-b1-49', 'dept-b1-50',\n",
       "       'dept-b1-51', 'dept-b1-52', 'dept-b1-53', 'dept-b1-54',\n",
       "       'dept-b1-55', 'dept-b1-56', 'dept-b1-57', 'dept-b1-58',\n",
       "       'dept-b1-59', 'dept-b1-60', 'dept-b1-61', 'dept-b1-62',\n",
       "       'dept-b1-63', 'dept-b1-64', 'dept-b1-65', 'dept-b1-66',\n",
       "       'dept-b1-67', 'dept-b1-68', 'dept-b1-69', 'dept-b1-70',\n",
       "       'dept-b1-71', 'dept-b1-72', 'dept-b1-73', 'dept-b1-74',\n",
       "       'dept-b1-75', 'dept-b1-76', 'dept-b1-77', 'dept-b1-78',\n",
       "       'dept-b1-79', 'dept-b1-80', 'dept-b1-81', 'dept-b1-82',\n",
       "       'dept-b1-83', 'dept-b1-84', 'dept-b1-85', 'dept-b1-86',\n",
       "       'dept-b1-87', 'dept-b1-88', 'dept-b1-89', 'dept-b1-90',\n",
       "       'dept-b1-91', 'dept-b1-92', 'dept-b1-93', 'dept-b1-94',\n",
       "       'dept-b1-95', 'dept-b1-96', 'dept-b1-97', 'dept-b1-98',\n",
       "       'dept-b1-99', 'dept-b1-100', 'dept-b1-101', 'dept-b1-102',\n",
       "       'dept-b1-103', 'dept-b1-104', 'dept-b1-105', 'dept-b1-106',\n",
       "       'dept-b1-107', 'dept-b1-108', 'dept-b1-109', 'dept-b1-110',\n",
       "       'dept-b1-111', 'dept-b1-112', 'dept-b1-113', 'dept-b1-114',\n",
       "       'dept-b2-01', 'dept-b2-02', 'dept-b2-03', 'dept-b2-04',\n",
       "       'dept-b2-05', 'dept-b2-06', 'dept-b2-07', 'dept-b2-08',\n",
       "       'dept-b2-09', 'dept-b2-10', 'dept-b2-11', 'dept-b2-12',\n",
       "       'dept-b2-13', 'dept-b2-14', 'dept-b2-15', 'dept-b2-16',\n",
       "       'dept-b2-17', 'dept-b2-18', 'dept-b2-19', 'dept-b2-20',\n",
       "       'dept-b2-21', 'dept-b2-22', 'dept-b2-23', 'dept-b2-24',\n",
       "       'dept-b2-25', 'dept-b2-26', 'dept-b2-27', 'dept-b2-28',\n",
       "       'dept-b2-29', 'dept-b2-30', 'dept-b2-31', 'dept-b2-32',\n",
       "       'dept-b2-33', 'dept-b2-34', 'dept-b2-35', 'dept-b2-36',\n",
       "       'dept-b2-37', 'dept-b2-38', 'dept-b2-39', 'dept-b2-40',\n",
       "       'dept-b2-41', 'dept-b2-42', 'dept-b2-43', 'dept-b2-44',\n",
       "       'dept-b2-45', 'dept-b2-46', 'dept-b2-47', 'dept-b2-48',\n",
       "       'dept-b2-49', 'dept-b2-50', 'dept-b2-51', 'dept-b2-52',\n",
       "       'dept-b2-53', 'dept-b2-54', 'dept-b2-55', 'dept-b2-56',\n",
       "       'dept-b2-57', 'dept-b2-58', 'dept-b2-59', 'dept-b2-60',\n",
       "       'dept-b2-61', 'dept-b2-62', 'dept-b2-63', 'dept-b2-64',\n",
       "       'dept-b2-65', 'dept-b2-66', 'dept-b2-67', 'dept-b2-68',\n",
       "       'dept-b2-69', 'dept-b2-70', 'dept-b2-71', 'dept-b2-72',\n",
       "       'dept-b2-73', 'dept-b2-74', 'dept-b2-75', 'dept-b2-76',\n",
       "       'dept-b2-77', 'dept-b2-78', 'dept-b2-79', 'dept-b2-80',\n",
       "       'dept-b2-81', 'dept-b2-82', 'dept-b2-83', 'dept-b2-84',\n",
       "       'dept-b2-85', 'dept-b2-86', 'dept-b2-87', 'dept-b2-88',\n",
       "       'dept-b2-89', 'dept-b2-90', 'dept-b2-91', 'dept-b2-92',\n",
       "       'dept-b2-93', 'dept-b2-94', 'dept-b2-95', 'dept-b2-96',\n",
       "       'dept-b2-97', 'dept-b2-98', 'dept-b2-99', 'dept-b2-100',\n",
       "       'dept-b2-101', 'dept-b2-102', 'dept-b2-103', 'dept-b2-104',\n",
       "       'dept-b2-105', 'dept-b2-106', 'dept-b2-107', 'dept-b2-108',\n",
       "       'dept-b2-109', 'dept-b2-110', 'dept-b2-111', 'dept-b2-112',\n",
       "       'dept-b2-113', 'dept-b2-114', 'dept-b2-115', 'dept-b2-116',\n",
       "       'dept-b2-117', 'dept-b2-118', 'dept-b2-119', 'dept-b2-120',\n",
       "       'dept-b2-121', 'dept-b2-122', 'dept-b2-123', 'dept-b2-124',\n",
       "       'dept-b2-125', 'dept-b2-126', 'dept-b2-127', 'dept-b2-128',\n",
       "       'dept-b2-129', 'dept-b2-130', 'dept-b2-131', 'dept-b2-132',\n",
       "       'dept-b2-133', 'dept-b2-134', 'dept-b2-135', 'dept-b2-136',\n",
       "       'dept-b2-137', 'dept-b2-138', 'dept-b2-139', 'dept-b2-140',\n",
       "       'dept-b2-141', 'dept-b2-142', 'dept-b2-143', 'dept-b2-144',\n",
       "       'dept-b2-145', 'dept-b2-146', 'dept-b2-147', 'dept-b2-148',\n",
       "       'dept-b2-149', 'dept-b2-150', 'dept-b2-151', 'dept-b2-152',\n",
       "       'dept-b2-153', 'dept-b2-154', 'dept-b2-155', 'dept-b2-156',\n",
       "       'dept-b3-01', 'dept-b3-02', 'dept-b3-03', 'dept-b3-04',\n",
       "       'dept-b3-05', 'dept-b3-06', 'dept-b3-07', 'dept-b3-08',\n",
       "       'dept-b3-09', 'dept-b3-10', 'dept-b3-11', 'dept-b3-12',\n",
       "       'dept-b3-13', 'dept-b3-14', 'dept-b3-15', 'dept-b3-16',\n",
       "       'dept-b3-17', 'dept-b3-18', 'dept-b3-19', 'dept-b3-20',\n",
       "       'dept-b3-21', 'dept-b3-22', 'dept-b3-23', 'dept-b3-24',\n",
       "       'dept-b3-25', 'dept-b3-26', 'dept-b3-27', 'dept-b3-28',\n",
       "       'dept-b3-29', 'dept-b3-30', 'dept-b3-31', 'dept-b3-32',\n",
       "       'dept-b3-33', 'dept-b3-34', 'dept-b3-35', 'dept-b3-36',\n",
       "       'dept-b3-37', 'dept-b3-38', 'dept-b3-39', 'dept-b3-40',\n",
       "       'dept-b3-41', 'dept-b3-42', 'dept-b3-43', 'dept-b3-44',\n",
       "       'dept-b3-45', 'dept-b3-46', 'dept-b3-47', 'dept-b3-48',\n",
       "       'dept-b3-49', 'dept-b3-50', 'dept-b3-51', 'dept-b3-52',\n",
       "       'dept-b3-53', 'dept-b3-54', 'dept-b3-55', 'dept-b3-56',\n",
       "       'dept-b3-57', 'dept-b3-58', 'dept-c-01', 'dept-c-02', 'dept-c-03',\n",
       "       'dept-c-04', 'dept-c-05', 'dept-c-06', 'dept-c-07', 'dept-c-08',\n",
       "       'dept-c-09', 'dept-c-10', 'dept-c-11', 'dept-c-12', 'dept-c-13',\n",
       "       'dept-c-14', 'dept-c-15', 'dept-c-16', 'dept-c-17', 'dept-c-18',\n",
       "       'dept-c-19', 'dept-c-20', 'dept-c-21', 'dept-c-22', 'dept-c-23',\n",
       "       'dept-c-24', 'dept-c-25', 'dept-c-26', 'dept-c-27', 'dept-c-28',\n",
       "       'dept-c-29', 'dept-c-30'], dtype=object)"
      ]
     },
     "execution_count": 11,
     "metadata": {},
     "output_type": "execute_result"
    }
   ],
   "source": [
    "df[\"Department\"].unique()"
   ]
  },
  {
   "cell_type": "markdown",
   "id": "29d27854",
   "metadata": {},
   "source": [
    "## Time Trends"
   ]
  },
  {
   "cell_type": "markdown",
   "id": "7cc34b21",
   "metadata": {},
   "source": [
    "Understanding  the range of establishment years"
   ]
  },
  {
   "cell_type": "code",
   "execution_count": 12,
   "id": "74b2e648",
   "metadata": {},
   "outputs": [
    {
     "data": {
      "text/plain": [
       "array([1985, 1987, 1990, 1998, 2001, 2007], dtype=int64)"
      ]
     },
     "execution_count": 12,
     "metadata": {},
     "output_type": "execute_result"
    }
   ],
   "source": [
    "df[\"YearOfEstablishment\"].unique()"
   ]
  },
  {
   "cell_type": "code",
   "execution_count": 13,
   "id": "d58ed414",
   "metadata": {},
   "outputs": [
    {
     "data": {
      "text/html": [
       "<div>\n",
       "<style scoped>\n",
       "    .dataframe tbody tr th:only-of-type {\n",
       "        vertical-align: middle;\n",
       "    }\n",
       "\n",
       "    .dataframe tbody tr th {\n",
       "        vertical-align: top;\n",
       "    }\n",
       "\n",
       "    .dataframe thead th {\n",
       "        text-align: right;\n",
       "    }\n",
       "</style>\n",
       "<table border=\"1\" class=\"dataframe\">\n",
       "  <thead>\n",
       "    <tr style=\"text-align: right;\">\n",
       "      <th></th>\n",
       "      <th>CompanyName</th>\n",
       "      <th>YearOfEstablishment</th>\n",
       "      <th>count</th>\n",
       "    </tr>\n",
       "  </thead>\n",
       "  <tbody>\n",
       "    <tr>\n",
       "      <th>0</th>\n",
       "      <td>Company \"A1\"</td>\n",
       "      <td>1985</td>\n",
       "      <td>73</td>\n",
       "    </tr>\n",
       "    <tr>\n",
       "      <th>1</th>\n",
       "      <td>Company \"A2\"</td>\n",
       "      <td>1987</td>\n",
       "      <td>69</td>\n",
       "    </tr>\n",
       "    <tr>\n",
       "      <th>2</th>\n",
       "      <td>Company \"B1\"</td>\n",
       "      <td>1990</td>\n",
       "      <td>114</td>\n",
       "    </tr>\n",
       "    <tr>\n",
       "      <th>3</th>\n",
       "      <td>Company \"B2\"</td>\n",
       "      <td>1998</td>\n",
       "      <td>156</td>\n",
       "    </tr>\n",
       "    <tr>\n",
       "      <th>4</th>\n",
       "      <td>Company \"B3\"</td>\n",
       "      <td>2001</td>\n",
       "      <td>58</td>\n",
       "    </tr>\n",
       "    <tr>\n",
       "      <th>5</th>\n",
       "      <td>Company \"C\"</td>\n",
       "      <td>2007</td>\n",
       "      <td>30</td>\n",
       "    </tr>\n",
       "  </tbody>\n",
       "</table>\n",
       "</div>"
      ],
      "text/plain": [
       "    CompanyName  YearOfEstablishment  count\n",
       "0  Company \"A1\"                 1985     73\n",
       "1  Company \"A2\"                 1987     69\n",
       "2  Company \"B1\"                 1990    114\n",
       "3  Company \"B2\"                 1998    156\n",
       "4  Company \"B3\"                 2001     58\n",
       "5   Company \"C\"                 2007     30"
      ]
     },
     "execution_count": 13,
     "metadata": {},
     "output_type": "execute_result"
    }
   ],
   "source": [
    "year = df.groupby(\"CompanyName\")[\"YearOfEstablishment\"].value_counts().reset_index()\n",
    "year"
   ]
  },
  {
   "cell_type": "code",
   "execution_count": 14,
   "id": "f9628eed",
   "metadata": {},
   "outputs": [
    {
     "data": {
      "image/png": "[encoded data removed]",
      "text/plain": [
       "<Figure size 640x480 with 1 Axes>"
      ]
     },
     "metadata": {},
     "output_type": "display_data"
    }
   ],
   "source": [
    "plt.bar(year[\"YearOfEstablishment\"],year[\"count\"])\n",
    "\n",
    "plt.xlabel(\"Years\")\n",
    "plt.ylabel(\"Number of Departments Opened That Year\")\n",
    "plt.xticks(year[\"YearOfEstablishment\"],rotation = 45, ha = \"right\")\n",
    "\n",
    "plt.show()"
   ]
  },
  {
   "cell_type": "markdown",
   "id": "0655d276",
   "metadata": {},
   "source": [
    "## Observation\n",
    "This plot shows us how many department the companies oppened during these years. So in hence sight we can say that in 1998 there was a huge boom in the economy. Or no? I'm not an economist don't take my word for it I just comment on what I see."
   ]
  },
  {
   "cell_type": "markdown",
   "id": "a75eed4b",
   "metadata": {},
   "source": [
    "## Revenue Analysis"
   ]
  },
  {
   "cell_type": "markdown",
   "id": "b5e31d9c",
   "metadata": {},
   "source": [
    "NetSales and CoastofSales comparison across Different Industries"
   ]
  },
  {
   "cell_type": "code",
   "execution_count": 15,
   "id": "4b68181a",
   "metadata": {},
   "outputs": [
    {
     "data": {
      "text/html": [
       "<div>\n",
       "<style scoped>\n",
       "    .dataframe tbody tr th:only-of-type {\n",
       "        vertical-align: middle;\n",
       "    }\n",
       "\n",
       "    .dataframe tbody tr th {\n",
       "        vertical-align: top;\n",
       "    }\n",
       "\n",
       "    .dataframe thead th {\n",
       "        text-align: right;\n",
       "    }\n",
       "</style>\n",
       "<table border=\"1\" class=\"dataframe\">\n",
       "  <thead>\n",
       "    <tr style=\"text-align: right;\">\n",
       "      <th></th>\n",
       "      <th>Industry</th>\n",
       "      <th>NetSales</th>\n",
       "      <th>CostofSales</th>\n",
       "    </tr>\n",
       "  </thead>\n",
       "  <tbody>\n",
       "    <tr>\n",
       "      <th>0</th>\n",
       "      <td>Communications</td>\n",
       "      <td>240577</td>\n",
       "      <td>183552</td>\n",
       "    </tr>\n",
       "    <tr>\n",
       "      <th>2</th>\n",
       "      <td>Electronics</td>\n",
       "      <td>163987</td>\n",
       "      <td>126376</td>\n",
       "    </tr>\n",
       "    <tr>\n",
       "      <th>1</th>\n",
       "      <td>Construction</td>\n",
       "      <td>92637</td>\n",
       "      <td>70188</td>\n",
       "    </tr>\n",
       "    <tr>\n",
       "      <th>5</th>\n",
       "      <td>Mining</td>\n",
       "      <td>90753</td>\n",
       "      <td>71846</td>\n",
       "    </tr>\n",
       "    <tr>\n",
       "      <th>4</th>\n",
       "      <td>Media</td>\n",
       "      <td>72501</td>\n",
       "      <td>56019</td>\n",
       "    </tr>\n",
       "    <tr>\n",
       "      <th>6</th>\n",
       "      <td>Pharmaceutical Industry</td>\n",
       "      <td>36210</td>\n",
       "      <td>36213</td>\n",
       "    </tr>\n",
       "    <tr>\n",
       "      <th>3</th>\n",
       "      <td>Food Industry</td>\n",
       "      <td>9391</td>\n",
       "      <td>8032</td>\n",
       "    </tr>\n",
       "    <tr>\n",
       "      <th>7</th>\n",
       "      <td>Utilities</td>\n",
       "      <td>4745</td>\n",
       "      <td>4134</td>\n",
       "    </tr>\n",
       "  </tbody>\n",
       "</table>\n",
       "</div>"
      ],
      "text/plain": [
       "                  Industry  NetSales  CostofSales\n",
       "0           Communications    240577       183552\n",
       "2              Electronics    163987       126376\n",
       "1             Construction     92637        70188\n",
       "5                   Mining     90753        71846\n",
       "4                    Media     72501        56019\n",
       "6  Pharmaceutical Industry     36210        36213\n",
       "3            Food Industry      9391         8032\n",
       "7                Utilities      4745         4134"
      ]
     },
     "execution_count": 15,
     "metadata": {},
     "output_type": "execute_result"
    }
   ],
   "source": [
    "ind_cn = df.groupby(\"Industry\")[[\"NetSales\",\"CostofSales\"]].sum().reset_index()\n",
    "ind_cn.sort_values(by = [\"NetSales\",\"CostofSales\"],ascending = [False,False])"
   ]
  },
  {
   "cell_type": "code",
   "execution_count": 16,
   "id": "8e846b7d",
   "metadata": {},
   "outputs": [
    {
     "data": {
      "image/png": "[encoded data removed]",
      "text/plain": [
       "<Figure size 640x480 with 1 Axes>"
      ]
     },
     "metadata": {},
     "output_type": "display_data"
    }
   ],
   "source": [
    "plt.bar(ind_cn[\"Industry\"],ind_cn[\"NetSales\"],label = \"Net Sales\",alpha = 1)\n",
    "plt.bar(ind_cn[\"Industry\"],ind_cn[\"CostofSales\"],label = \"Cost Of Sales\",alpha = 0.7)\n",
    "\n",
    "plt.xlabel(\"Industry\")\n",
    "plt.ylabel(\"Coast and Sales\")\n",
    "plt.xticks(ind_cn[\"Industry\"], rotation = 45, ha = \"right\")\n",
    "\n",
    "plt.legend()\n",
    "plt.show()"
   ]
  },
  {
   "cell_type": "markdown",
   "id": "954acdc4",
   "metadata": {},
   "source": [
    "The most amount of revenue comes from communications there for the companies that work on cominications would be expected to be the most profitable."
   ]
  },
  {
   "cell_type": "markdown",
   "id": "a0d509c5",
   "metadata": {},
   "source": [
    "Profit for Each Company"
   ]
  },
  {
   "cell_type": "code",
   "execution_count": 17,
   "id": "172bc8ff",
   "metadata": {},
   "outputs": [],
   "source": [
    "df[\"Profit\"] = df[\"NetSales\"] - df[\"CostofSales\"]"
   ]
  },
  {
   "cell_type": "code",
   "execution_count": 18,
   "id": "63d4fa60",
   "metadata": {},
   "outputs": [
    {
     "data": {
      "text/html": [
       "<div>\n",
       "<style scoped>\n",
       "    .dataframe tbody tr th:only-of-type {\n",
       "        vertical-align: middle;\n",
       "    }\n",
       "\n",
       "    .dataframe tbody tr th {\n",
       "        vertical-align: top;\n",
       "    }\n",
       "\n",
       "    .dataframe thead th {\n",
       "        text-align: right;\n",
       "    }\n",
       "</style>\n",
       "<table border=\"1\" class=\"dataframe\">\n",
       "  <thead>\n",
       "    <tr style=\"text-align: right;\">\n",
       "      <th></th>\n",
       "      <th>CompanyName</th>\n",
       "      <th>Profit</th>\n",
       "    </tr>\n",
       "  </thead>\n",
       "  <tbody>\n",
       "    <tr>\n",
       "      <th>3</th>\n",
       "      <td>Company \"B2\"</td>\n",
       "      <td>53076</td>\n",
       "    </tr>\n",
       "    <tr>\n",
       "      <th>2</th>\n",
       "      <td>Company \"B1\"</td>\n",
       "      <td>37611</td>\n",
       "    </tr>\n",
       "    <tr>\n",
       "      <th>1</th>\n",
       "      <td>Company \"A2\"</td>\n",
       "      <td>23060</td>\n",
       "    </tr>\n",
       "    <tr>\n",
       "      <th>4</th>\n",
       "      <td>Company \"B3\"</td>\n",
       "      <td>20431</td>\n",
       "    </tr>\n",
       "    <tr>\n",
       "      <th>0</th>\n",
       "      <td>Company \"A1\"</td>\n",
       "      <td>20266</td>\n",
       "    </tr>\n",
       "    <tr>\n",
       "      <th>5</th>\n",
       "      <td>Company \"C\"</td>\n",
       "      <td>-3</td>\n",
       "    </tr>\n",
       "  </tbody>\n",
       "</table>\n",
       "</div>"
      ],
      "text/plain": [
       "    CompanyName  Profit\n",
       "3  Company \"B2\"   53076\n",
       "2  Company \"B1\"   37611\n",
       "1  Company \"A2\"   23060\n",
       "4  Company \"B3\"   20431\n",
       "0  Company \"A1\"   20266\n",
       "5   Company \"C\"      -3"
      ]
     },
     "execution_count": 18,
     "metadata": {},
     "output_type": "execute_result"
    }
   ],
   "source": [
    "pro_com = df.groupby(\"CompanyName\")[\"Profit\"].sum().reset_index()\n",
    "pro_com.sort_values(by = \"Profit\", ascending = False)"
   ]
  },
  {
   "cell_type": "code",
   "execution_count": 19,
   "id": "96b5a5e3",
   "metadata": {},
   "outputs": [
    {
     "data": {
      "image/png": "[encoded data removed]",
      "text/plain": [
       "<Figure size 640x480 with 1 Axes>"
      ]
     },
     "metadata": {},
     "output_type": "display_data"
    }
   ],
   "source": [
    "plt.bar(pro_com[\"CompanyName\"],pro_com[\"Profit\"],label = \"Profit\")\n",
    "\n",
    "plt.xlabel(\"Company\")\n",
    "plt.ylabel(\"Profit\")\n",
    "plt.xticks(pro_com[\"CompanyName\"], rotation = 45, ha = \"right\")\n",
    "\n",
    "plt.legend()\n",
    "plt.show()"
   ]
  },
  {
   "cell_type": "code",
   "execution_count": 20,
   "id": "968d6cf2",
   "metadata": {},
   "outputs": [
    {
     "data": {
      "text/html": [
       "<div>\n",
       "<style scoped>\n",
       "    .dataframe tbody tr th:only-of-type {\n",
       "        vertical-align: middle;\n",
       "    }\n",
       "\n",
       "    .dataframe tbody tr th {\n",
       "        vertical-align: top;\n",
       "    }\n",
       "\n",
       "    .dataframe thead th {\n",
       "        text-align: right;\n",
       "    }\n",
       "</style>\n",
       "<table border=\"1\" class=\"dataframe\">\n",
       "  <thead>\n",
       "    <tr style=\"text-align: right;\">\n",
       "      <th></th>\n",
       "      <th>CompanyName</th>\n",
       "      <th>Industry</th>\n",
       "      <th>Profit</th>\n",
       "    </tr>\n",
       "  </thead>\n",
       "  <tbody>\n",
       "    <tr>\n",
       "      <th>5</th>\n",
       "      <td>Company \"B2\"</td>\n",
       "      <td>Communications</td>\n",
       "      <td>53076</td>\n",
       "    </tr>\n",
       "    <tr>\n",
       "      <th>6</th>\n",
       "      <td>Company \"B3\"</td>\n",
       "      <td>Communications</td>\n",
       "      <td>3949</td>\n",
       "    </tr>\n",
       "  </tbody>\n",
       "</table>\n",
       "</div>"
      ],
      "text/plain": [
       "    CompanyName        Industry  Profit\n",
       "5  Company \"B2\"  Communications   53076\n",
       "6  Company \"B3\"  Communications    3949"
      ]
     },
     "execution_count": 20,
     "metadata": {},
     "output_type": "execute_result"
    }
   ],
   "source": [
    "comp_ind = df.groupby([\"CompanyName\",\"Industry\"])[\"Profit\"].sum().reset_index()\n",
    "comp_ind = comp_ind[comp_ind[\"Industry\"] == \"Communications\"]\n",
    "comp_ind"
   ]
  },
  {
   "cell_type": "markdown",
   "id": "8d97cf3e",
   "metadata": {},
   "source": [
    "Company \"B2\" and Company \"B3\" works on communications while comapny \"B2\" supports our companies that works on communications are most profitable, Company \"B2\" has the highest profit margin of all companies, conclution how ever  Company \"B3\" is going on a much average profit."
   ]
  },
  {
   "cell_type": "markdown",
   "id": "1e941960",
   "metadata": {},
   "source": [
    "## Industry Analysis"
   ]
  },
  {
   "cell_type": "markdown",
   "id": "a4caf3cd",
   "metadata": {},
   "source": [
    "Understanding the distribution of companies across different industries"
   ]
  },
  {
   "cell_type": "code",
   "execution_count": 21,
   "id": "023d80f0",
   "metadata": {},
   "outputs": [
    {
     "data": {
      "text/html": [
       "<div>\n",
       "<style scoped>\n",
       "    .dataframe tbody tr th:only-of-type {\n",
       "        vertical-align: middle;\n",
       "    }\n",
       "\n",
       "    .dataframe tbody tr th {\n",
       "        vertical-align: top;\n",
       "    }\n",
       "\n",
       "    .dataframe thead th {\n",
       "        text-align: right;\n",
       "    }\n",
       "</style>\n",
       "<table border=\"1\" class=\"dataframe\">\n",
       "  <thead>\n",
       "    <tr style=\"text-align: right;\">\n",
       "      <th></th>\n",
       "      <th>Industry</th>\n",
       "      <th>count</th>\n",
       "    </tr>\n",
       "  </thead>\n",
       "  <tbody>\n",
       "    <tr>\n",
       "      <th>0</th>\n",
       "      <td>Communications</td>\n",
       "      <td>165</td>\n",
       "    </tr>\n",
       "    <tr>\n",
       "      <th>1</th>\n",
       "      <td>Electronics</td>\n",
       "      <td>114</td>\n",
       "    </tr>\n",
       "    <tr>\n",
       "      <th>2</th>\n",
       "      <td>Mining</td>\n",
       "      <td>66</td>\n",
       "    </tr>\n",
       "    <tr>\n",
       "      <th>3</th>\n",
       "      <td>Construction</td>\n",
       "      <td>66</td>\n",
       "    </tr>\n",
       "    <tr>\n",
       "      <th>4</th>\n",
       "      <td>Media</td>\n",
       "      <td>49</td>\n",
       "    </tr>\n",
       "    <tr>\n",
       "      <th>5</th>\n",
       "      <td>Pharmaceutical Industry</td>\n",
       "      <td>30</td>\n",
       "    </tr>\n",
       "    <tr>\n",
       "      <th>6</th>\n",
       "      <td>Food Industry</td>\n",
       "      <td>7</td>\n",
       "    </tr>\n",
       "    <tr>\n",
       "      <th>7</th>\n",
       "      <td>Utilities</td>\n",
       "      <td>3</td>\n",
       "    </tr>\n",
       "  </tbody>\n",
       "</table>\n",
       "</div>"
      ],
      "text/plain": [
       "                  Industry  count\n",
       "0           Communications    165\n",
       "1              Electronics    114\n",
       "2                   Mining     66\n",
       "3             Construction     66\n",
       "4                    Media     49\n",
       "5  Pharmaceutical Industry     30\n",
       "6            Food Industry      7\n",
       "7                Utilities      3"
      ]
     },
     "execution_count": 21,
     "metadata": {},
     "output_type": "execute_result"
    }
   ],
   "source": [
    "ind_dis = df[\"Industry\"].value_counts().reset_index()\n",
    "ind_dis"
   ]
  },
  {
   "cell_type": "code",
   "execution_count": 22,
   "id": "cc6fa6a4",
   "metadata": {},
   "outputs": [
    {
     "data": {
      "image/png": "[encoded data removed]",
      "text/plain": [
       "<Figure size 640x480 with 1 Axes>"
      ]
     },
     "metadata": {},
     "output_type": "display_data"
    }
   ],
   "source": [
    "plt.bar(ind_dis[\"Industry\"],ind_dis[\"count\"],label = \"Number of Industries\")\n",
    "\n",
    "plt.xlabel(\"Insutries\")\n",
    "plt.ylabel(\"Number of Industrie\")\n",
    "plt.xticks(ind_dis[\"Industry\"], rotation = 45, ha = \"right\")\n",
    "plt.legend()\n",
    "plt.show()"
   ]
  },
  {
   "cell_type": "markdown",
   "id": "451c1575",
   "metadata": {},
   "source": [
    "## Observation\n",
    "As seen in the above, the industry seems to be focused on Cominications."
   ]
  },
  {
   "cell_type": "markdown",
   "id": "a1e9a192",
   "metadata": {},
   "source": [
    "Exploring the average NetSales and CostOfSales for each industry"
   ]
  },
  {
   "cell_type": "code",
   "execution_count": 23,
   "id": "16ed6e7b",
   "metadata": {},
   "outputs": [
    {
     "data": {
      "text/html": [
       "<div>\n",
       "<style scoped>\n",
       "    .dataframe tbody tr th:only-of-type {\n",
       "        vertical-align: middle;\n",
       "    }\n",
       "\n",
       "    .dataframe tbody tr th {\n",
       "        vertical-align: top;\n",
       "    }\n",
       "\n",
       "    .dataframe thead th {\n",
       "        text-align: right;\n",
       "    }\n",
       "</style>\n",
       "<table border=\"1\" class=\"dataframe\">\n",
       "  <thead>\n",
       "    <tr style=\"text-align: right;\">\n",
       "      <th></th>\n",
       "      <th>Industry</th>\n",
       "      <th>NetSales</th>\n",
       "      <th>CostofSales</th>\n",
       "    </tr>\n",
       "  </thead>\n",
       "  <tbody>\n",
       "    <tr>\n",
       "      <th>0</th>\n",
       "      <td>Communications</td>\n",
       "      <td>1458.042424</td>\n",
       "      <td>1112.436364</td>\n",
       "    </tr>\n",
       "    <tr>\n",
       "      <th>1</th>\n",
       "      <td>Construction</td>\n",
       "      <td>1403.590909</td>\n",
       "      <td>1063.454545</td>\n",
       "    </tr>\n",
       "    <tr>\n",
       "      <th>2</th>\n",
       "      <td>Electronics</td>\n",
       "      <td>1438.482456</td>\n",
       "      <td>1108.561404</td>\n",
       "    </tr>\n",
       "    <tr>\n",
       "      <th>3</th>\n",
       "      <td>Food Industry</td>\n",
       "      <td>1341.571429</td>\n",
       "      <td>1147.428571</td>\n",
       "    </tr>\n",
       "    <tr>\n",
       "      <th>4</th>\n",
       "      <td>Media</td>\n",
       "      <td>1479.612245</td>\n",
       "      <td>1143.244898</td>\n",
       "    </tr>\n",
       "    <tr>\n",
       "      <th>5</th>\n",
       "      <td>Mining</td>\n",
       "      <td>1375.045455</td>\n",
       "      <td>1088.575758</td>\n",
       "    </tr>\n",
       "    <tr>\n",
       "      <th>6</th>\n",
       "      <td>Pharmaceutical Industry</td>\n",
       "      <td>1207.000000</td>\n",
       "      <td>1207.100000</td>\n",
       "    </tr>\n",
       "    <tr>\n",
       "      <th>7</th>\n",
       "      <td>Utilities</td>\n",
       "      <td>1581.666667</td>\n",
       "      <td>1378.000000</td>\n",
       "    </tr>\n",
       "  </tbody>\n",
       "</table>\n",
       "</div>"
      ],
      "text/plain": [
       "                  Industry     NetSales  CostofSales\n",
       "0           Communications  1458.042424  1112.436364\n",
       "1             Construction  1403.590909  1063.454545\n",
       "2              Electronics  1438.482456  1108.561404\n",
       "3            Food Industry  1341.571429  1147.428571\n",
       "4                    Media  1479.612245  1143.244898\n",
       "5                   Mining  1375.045455  1088.575758\n",
       "6  Pharmaceutical Industry  1207.000000  1207.100000\n",
       "7                Utilities  1581.666667  1378.000000"
      ]
     },
     "execution_count": 23,
     "metadata": {},
     "output_type": "execute_result"
    }
   ],
   "source": [
    "ind_avrg = df.groupby(\"Industry\")[[\"NetSales\",\"CostofSales\"]].agg({\"NetSales\" : \"mean\", \"CostofSales\" : \"mean\"}).reset_index()\n",
    "ind_avrg"
   ]
  },
  {
   "cell_type": "code",
   "execution_count": 24,
   "id": "bf950de0",
   "metadata": {},
   "outputs": [
    {
     "data": {
      "image/png": "[encoded data removed]",
      "text/plain": [
       "<Figure size 640x480 with 1 Axes>"
      ]
     },
     "metadata": {},
     "output_type": "display_data"
    }
   ],
   "source": [
    "bar_positions1 = range(len(ind_avrg))\n",
    "bar_positions2 = [pos + 0.35 for pos in bar_positions1]\n",
    "\n",
    "plt.bar(bar_positions1, ind_avrg['NetSales'], width=0.35, label='NetSales')\n",
    "plt.bar(bar_positions2, ind_avrg['CostofSales'], width=0.35, label='CostofSales')\n",
    "\n",
    "plt.xticks([pos + 0.35 / 2 for pos in bar_positions1], ind_avrg['Industry'],rotation = 90)\n",
    "\n",
    "plt.xlabel('Industry')\n",
    "plt.ylabel('Values')\n",
    "plt.title('Average NetSales and CostOfSales by Industry')\n",
    "plt.legend()\n",
    "\n",
    "plt.show()"
   ]
  },
  {
   "cell_type": "markdown",
   "id": "8d01a65a",
   "metadata": {},
   "source": [
    "Identifing the industries with the highest and lowest average profits"
   ]
  },
  {
   "cell_type": "code",
   "execution_count": 25,
   "id": "b305c6bb",
   "metadata": {
    "scrolled": true
   },
   "outputs": [
    {
     "data": {
      "text/html": [
       "<div>\n",
       "<style scoped>\n",
       "    .dataframe tbody tr th:only-of-type {\n",
       "        vertical-align: middle;\n",
       "    }\n",
       "\n",
       "    .dataframe tbody tr th {\n",
       "        vertical-align: top;\n",
       "    }\n",
       "\n",
       "    .dataframe thead th {\n",
       "        text-align: right;\n",
       "    }\n",
       "</style>\n",
       "<table border=\"1\" class=\"dataframe\">\n",
       "  <thead>\n",
       "    <tr style=\"text-align: right;\">\n",
       "      <th></th>\n",
       "      <th>Industry</th>\n",
       "      <th>Profit</th>\n",
       "    </tr>\n",
       "  </thead>\n",
       "  <tbody>\n",
       "    <tr>\n",
       "      <th>0</th>\n",
       "      <td>Communications</td>\n",
       "      <td>345.606061</td>\n",
       "    </tr>\n",
       "    <tr>\n",
       "      <th>1</th>\n",
       "      <td>Construction</td>\n",
       "      <td>340.136364</td>\n",
       "    </tr>\n",
       "    <tr>\n",
       "      <th>4</th>\n",
       "      <td>Media</td>\n",
       "      <td>336.367347</td>\n",
       "    </tr>\n",
       "    <tr>\n",
       "      <th>2</th>\n",
       "      <td>Electronics</td>\n",
       "      <td>329.921053</td>\n",
       "    </tr>\n",
       "    <tr>\n",
       "      <th>5</th>\n",
       "      <td>Mining</td>\n",
       "      <td>286.469697</td>\n",
       "    </tr>\n",
       "    <tr>\n",
       "      <th>7</th>\n",
       "      <td>Utilities</td>\n",
       "      <td>203.666667</td>\n",
       "    </tr>\n",
       "    <tr>\n",
       "      <th>3</th>\n",
       "      <td>Food Industry</td>\n",
       "      <td>194.142857</td>\n",
       "    </tr>\n",
       "    <tr>\n",
       "      <th>6</th>\n",
       "      <td>Pharmaceutical Industry</td>\n",
       "      <td>-0.100000</td>\n",
       "    </tr>\n",
       "  </tbody>\n",
       "</table>\n",
       "</div>"
      ],
      "text/plain": [
       "                  Industry      Profit\n",
       "0           Communications  345.606061\n",
       "1             Construction  340.136364\n",
       "4                    Media  336.367347\n",
       "2              Electronics  329.921053\n",
       "5                   Mining  286.469697\n",
       "7                Utilities  203.666667\n",
       "3            Food Industry  194.142857\n",
       "6  Pharmaceutical Industry   -0.100000"
      ]
     },
     "execution_count": 25,
     "metadata": {},
     "output_type": "execute_result"
    }
   ],
   "source": [
    "avrg_pro = df.groupby(\"Industry\")[\"Profit\"].agg(\"mean\").reset_index()\n",
    "avrg_pro.sort_values(by = \"Profit\", ascending = False)"
   ]
  },
  {
   "cell_type": "code",
   "execution_count": 26,
   "id": "b5789470",
   "metadata": {},
   "outputs": [
    {
     "data": {
      "image/png": "[encoded data removed]",
      "text/plain": [
       "<Figure size 640x480 with 1 Axes>"
      ]
     },
     "metadata": {},
     "output_type": "display_data"
    }
   ],
   "source": [
    "plt.bar(avrg_pro[\"Industry\"],avrg_pro[\"Profit\"],label  = \"Profit\")\n",
    "\n",
    "plt.xlabel(\"Industries\")\n",
    "plt.ylabel(\"Average Profit\")\n",
    "plt.title(\"Average Profit by Industry\")\n",
    "plt.xticks(avrg_pro[\"Industry\"], rotation = 90)\n",
    "\n",
    "plt.legend()\n",
    "plt.show()"
   ]
  },
  {
   "cell_type": "markdown",
   "id": "2e13273c",
   "metadata": {},
   "source": [
    "These plots or graphs shows us that most profitable branch of Industries ar as follows\n",
    "\n",
    "1- Communications\n",
    "\n",
    "2- Construction\n",
    "\n",
    "3- Media\n",
    "\n",
    "4- Electronics\n",
    "\n",
    "5- Mining\n",
    "\n",
    "6- Utilities\n",
    "\n",
    "7- Food Industry\n",
    "\n",
    "8- Pharmaceutical Industry"
   ]
  },
  {
   "cell_type": "markdown",
   "id": "70d33701",
   "metadata": {},
   "source": [
    "## Departmental Analysis"
   ]
  },
  {
   "cell_type": "markdown",
   "id": "a17401b6",
   "metadata": {},
   "source": [
    "Identifing which departments contribute the most to the overall revenue and profit."
   ]
  },
  {
   "cell_type": "code",
   "execution_count": 27,
   "id": "c3817c09",
   "metadata": {},
   "outputs": [
    {
     "data": {
      "text/html": [
       "<div>\n",
       "<style scoped>\n",
       "    .dataframe tbody tr th:only-of-type {\n",
       "        vertical-align: middle;\n",
       "    }\n",
       "\n",
       "    .dataframe tbody tr th {\n",
       "        vertical-align: top;\n",
       "    }\n",
       "\n",
       "    .dataframe thead th {\n",
       "        text-align: right;\n",
       "    }\n",
       "</style>\n",
       "<table border=\"1\" class=\"dataframe\">\n",
       "  <thead>\n",
       "    <tr style=\"text-align: right;\">\n",
       "      <th></th>\n",
       "      <th>Department</th>\n",
       "      <th>Profit</th>\n",
       "    </tr>\n",
       "  </thead>\n",
       "  <tbody>\n",
       "    <tr>\n",
       "      <th>246</th>\n",
       "      <td>dept-b1-90</td>\n",
       "      <td>1777</td>\n",
       "    </tr>\n",
       "  </tbody>\n",
       "</table>\n",
       "</div>"
      ],
      "text/plain": [
       "     Department  Profit\n",
       "246  dept-b1-90    1777"
      ]
     },
     "execution_count": 27,
     "metadata": {},
     "output_type": "execute_result"
    }
   ],
   "source": [
    "com_dep = df.groupby(\"Department\")[\"Profit\"].sum().reset_index()\n",
    "com_dep.nlargest(1,\"Profit\")"
   ]
  },
  {
   "cell_type": "code",
   "execution_count": 28,
   "id": "e62374ae",
   "metadata": {},
   "outputs": [
    {
     "data": {
      "text/html": [
       "<div>\n",
       "<style scoped>\n",
       "    .dataframe tbody tr th:only-of-type {\n",
       "        vertical-align: middle;\n",
       "    }\n",
       "\n",
       "    .dataframe tbody tr th {\n",
       "        vertical-align: top;\n",
       "    }\n",
       "\n",
       "    .dataframe thead th {\n",
       "        text-align: right;\n",
       "    }\n",
       "</style>\n",
       "<table border=\"1\" class=\"dataframe\">\n",
       "  <thead>\n",
       "    <tr style=\"text-align: right;\">\n",
       "      <th></th>\n",
       "      <th>Department</th>\n",
       "      <th>Profit</th>\n",
       "    </tr>\n",
       "  </thead>\n",
       "  <tbody>\n",
       "    <tr>\n",
       "      <th>36</th>\n",
       "      <td>dept-a1-37</td>\n",
       "      <td>-1136</td>\n",
       "    </tr>\n",
       "  </tbody>\n",
       "</table>\n",
       "</div>"
      ],
      "text/plain": [
       "    Department  Profit\n",
       "36  dept-a1-37   -1136"
      ]
     },
     "execution_count": 28,
     "metadata": {},
     "output_type": "execute_result"
    }
   ],
   "source": [
    "com_dep.nsmallest(1,\"Profit\")"
   ]
  },
  {
   "cell_type": "markdown",
   "id": "c88029be",
   "metadata": {},
   "source": [
    "## Correlation Analysis"
   ]
  },
  {
   "cell_type": "code",
   "execution_count": 29,
   "id": "df7e3244",
   "metadata": {},
   "outputs": [
    {
     "data": {
      "text/html": [
       "<div>\n",
       "<style scoped>\n",
       "    .dataframe tbody tr th:only-of-type {\n",
       "        vertical-align: middle;\n",
       "    }\n",
       "\n",
       "    .dataframe tbody tr th {\n",
       "        vertical-align: top;\n",
       "    }\n",
       "\n",
       "    .dataframe thead th {\n",
       "        text-align: right;\n",
       "    }\n",
       "</style>\n",
       "<table border=\"1\" class=\"dataframe\">\n",
       "  <thead>\n",
       "    <tr style=\"text-align: right;\">\n",
       "      <th></th>\n",
       "      <th>NetSales</th>\n",
       "      <th>CostofSales</th>\n",
       "      <th>Profit</th>\n",
       "    </tr>\n",
       "  </thead>\n",
       "  <tbody>\n",
       "    <tr>\n",
       "      <th>NetSales</th>\n",
       "      <td>1.000000</td>\n",
       "      <td>-0.049965</td>\n",
       "      <td>0.817946</td>\n",
       "    </tr>\n",
       "    <tr>\n",
       "      <th>CostofSales</th>\n",
       "      <td>-0.049965</td>\n",
       "      <td>1.000000</td>\n",
       "      <td>-0.615445</td>\n",
       "    </tr>\n",
       "    <tr>\n",
       "      <th>Profit</th>\n",
       "      <td>0.817946</td>\n",
       "      <td>-0.615445</td>\n",
       "      <td>1.000000</td>\n",
       "    </tr>\n",
       "  </tbody>\n",
       "</table>\n",
       "</div>"
      ],
      "text/plain": [
       "             NetSales  CostofSales    Profit\n",
       "NetSales     1.000000    -0.049965  0.817946\n",
       "CostofSales -0.049965     1.000000 -0.615445\n",
       "Profit       0.817946    -0.615445  1.000000"
      ]
     },
     "execution_count": 29,
     "metadata": {},
     "output_type": "execute_result"
    }
   ],
   "source": [
    "corr_cn = df[[\"NetSales\",\"CostofSales\",\"Profit\"]].corr()\n",
    "corr_cn"
   ]
  },
  {
   "cell_type": "code",
   "execution_count": 30,
   "id": "1ec874ba",
   "metadata": {},
   "outputs": [
    {
     "data": {
      "image/png": "[encoded data removed]",
      "text/plain": [
       "<Figure size 800x600 with 2 Axes>"
      ]
     },
     "metadata": {},
     "output_type": "display_data"
    }
   ],
   "source": [
    "import seaborn as sns\n",
    "\n",
    "plt.figure(figsize=(8, 6))\n",
    "\n",
    "sns.heatmap(corr_cn, annot=True, cmap='coolwarm', fmt=\".2f\", linewidths=.5)\n",
    "\n",
    "plt.title('Correlation Matrix of Numerical Variables')\n",
    "plt.show()"
   ]
  },
  {
   "cell_type": "markdown",
   "id": "4be58424",
   "metadata": {},
   "source": [
    "## Company Analysis"
   ]
  },
  {
   "cell_type": "code",
   "execution_count": 31,
   "id": "4aee4e2b",
   "metadata": {},
   "outputs": [
    {
     "data": {
      "text/plain": [
       "array(['Company \"A1\"', 'Company \"A2\"', 'Company \"B1\"', 'Company \"B2\"',\n",
       "       'Company \"B3\"', 'Company \"C\"'], dtype=object)"
      ]
     },
     "execution_count": 31,
     "metadata": {},
     "output_type": "execute_result"
    }
   ],
   "source": [
    "df[\"CompanyName\"].unique()"
   ]
  },
  {
   "cell_type": "markdown",
   "id": "485e518d",
   "metadata": {},
   "source": [
    "## Company \"A1\""
   ]
  },
  {
   "cell_type": "code",
   "execution_count": 32,
   "id": "ca7098f6",
   "metadata": {},
   "outputs": [
    {
     "data": {
      "text/html": [
       "<div>\n",
       "<style scoped>\n",
       "    .dataframe tbody tr th:only-of-type {\n",
       "        vertical-align: middle;\n",
       "    }\n",
       "\n",
       "    .dataframe tbody tr th {\n",
       "        vertical-align: top;\n",
       "    }\n",
       "\n",
       "    .dataframe thead th {\n",
       "        text-align: right;\n",
       "    }\n",
       "</style>\n",
       "<table border=\"1\" class=\"dataframe\">\n",
       "  <thead>\n",
       "    <tr style=\"text-align: right;\">\n",
       "      <th></th>\n",
       "      <th>CompanyName</th>\n",
       "      <th>Industry</th>\n",
       "      <th>Department</th>\n",
       "      <th>YearOfEstablishment</th>\n",
       "      <th>NetSales</th>\n",
       "      <th>CostofSales</th>\n",
       "      <th>Profit</th>\n",
       "    </tr>\n",
       "  </thead>\n",
       "  <tbody>\n",
       "    <tr>\n",
       "      <th>0</th>\n",
       "      <td>Company \"A1\"</td>\n",
       "      <td>Mining</td>\n",
       "      <td>dept-a1-01</td>\n",
       "      <td>1985</td>\n",
       "      <td>1719</td>\n",
       "      <td>1735</td>\n",
       "      <td>-16</td>\n",
       "    </tr>\n",
       "    <tr>\n",
       "      <th>1</th>\n",
       "      <td>Company \"A1\"</td>\n",
       "      <td>Mining</td>\n",
       "      <td>dept-a1-02</td>\n",
       "      <td>1985</td>\n",
       "      <td>1291</td>\n",
       "      <td>947</td>\n",
       "      <td>344</td>\n",
       "    </tr>\n",
       "    <tr>\n",
       "      <th>2</th>\n",
       "      <td>Company \"A1\"</td>\n",
       "      <td>Mining</td>\n",
       "      <td>dept-a1-03</td>\n",
       "      <td>1985</td>\n",
       "      <td>1702</td>\n",
       "      <td>508</td>\n",
       "      <td>1194</td>\n",
       "    </tr>\n",
       "    <tr>\n",
       "      <th>3</th>\n",
       "      <td>Company \"A1\"</td>\n",
       "      <td>Mining</td>\n",
       "      <td>dept-a1-04</td>\n",
       "      <td>1985</td>\n",
       "      <td>1008</td>\n",
       "      <td>468</td>\n",
       "      <td>540</td>\n",
       "    </tr>\n",
       "    <tr>\n",
       "      <th>4</th>\n",
       "      <td>Company \"A1\"</td>\n",
       "      <td>Mining</td>\n",
       "      <td>dept-a1-05</td>\n",
       "      <td>1985</td>\n",
       "      <td>2058</td>\n",
       "      <td>469</td>\n",
       "      <td>1589</td>\n",
       "    </tr>\n",
       "  </tbody>\n",
       "</table>\n",
       "</div>"
      ],
      "text/plain": [
       "    CompanyName Industry  Department  YearOfEstablishment  NetSales  \\\n",
       "0  Company \"A1\"   Mining  dept-a1-01                 1985      1719   \n",
       "1  Company \"A1\"   Mining  dept-a1-02                 1985      1291   \n",
       "2  Company \"A1\"   Mining  dept-a1-03                 1985      1702   \n",
       "3  Company \"A1\"   Mining  dept-a1-04                 1985      1008   \n",
       "4  Company \"A1\"   Mining  dept-a1-05                 1985      2058   \n",
       "\n",
       "   CostofSales  Profit  \n",
       "0         1735     -16  \n",
       "1          947     344  \n",
       "2          508    1194  \n",
       "3          468     540  \n",
       "4          469    1589  "
      ]
     },
     "execution_count": 32,
     "metadata": {},
     "output_type": "execute_result"
    }
   ],
   "source": [
    "A1 = df.loc[df[\"CompanyName\"] == \"Company \\\"A1\\\"\"]\n",
    "A1.head()"
   ]
  },
  {
   "cell_type": "code",
   "execution_count": 33,
   "id": "05c1249a",
   "metadata": {},
   "outputs": [
    {
     "data": {
      "text/plain": [
       "73"
      ]
     },
     "execution_count": 33,
     "metadata": {},
     "output_type": "execute_result"
    }
   ],
   "source": [
    "len(A1[\"Department\"])"
   ]
  },
  {
   "cell_type": "markdown",
   "id": "78195ccd",
   "metadata": {},
   "source": [
    "Company \"A1\" has 73 departments"
   ]
  },
  {
   "cell_type": "code",
   "execution_count": 34,
   "id": "b7e0a7d8",
   "metadata": {},
   "outputs": [
    {
     "data": {
      "text/plain": [
       "array(['Mining', 'Food Industry'], dtype=object)"
      ]
     },
     "execution_count": 34,
     "metadata": {},
     "output_type": "execute_result"
    }
   ],
   "source": [
    "A1[\"Industry\"].unique()"
   ]
  },
  {
   "cell_type": "markdown",
   "id": "e8b80c6d",
   "metadata": {},
   "source": [
    "Company \"A1\" works on mining and food ındustries"
   ]
  },
  {
   "cell_type": "code",
   "execution_count": 35,
   "id": "d65b29ce",
   "metadata": {},
   "outputs": [
    {
     "data": {
      "image/png": "[encoded data removed]",
      "text/plain": [
       "<Figure size 640x480 with 1 Axes>"
      ]
     },
     "metadata": {},
     "output_type": "display_data"
    }
   ],
   "source": [
    "ind_snp = A1.groupby(\"Industry\")[[\"NetSales\",\"Profit\"]].sum().reset_index()\n",
    "\n",
    "\n",
    "plt.bar(ind_snp[\"Industry\"],ind_snp[\"NetSales\"],label = \"Net Sales\")\n",
    "plt.bar(ind_snp[\"Industry\"],ind_snp[\"Profit\"],label = \"Profit\")\n",
    "\n",
    "\n",
    "plt.legend()\n",
    "plt.show()"
   ]
  },
  {
   "cell_type": "markdown",
   "id": "e02f9b17",
   "metadata": {},
   "source": [
    "Tho most amount of sales and profit comes from mining industry"
   ]
  },
  {
   "cell_type": "code",
   "execution_count": 36,
   "id": "faaeba5d",
   "metadata": {},
   "outputs": [
    {
     "data": {
      "text/html": [
       "<div>\n",
       "<style scoped>\n",
       "    .dataframe tbody tr th:only-of-type {\n",
       "        vertical-align: middle;\n",
       "    }\n",
       "\n",
       "    .dataframe tbody tr th {\n",
       "        vertical-align: top;\n",
       "    }\n",
       "\n",
       "    .dataframe thead th {\n",
       "        text-align: right;\n",
       "    }\n",
       "</style>\n",
       "<table border=\"1\" class=\"dataframe\">\n",
       "  <thead>\n",
       "    <tr style=\"text-align: right;\">\n",
       "      <th></th>\n",
       "      <th>index</th>\n",
       "      <th>0</th>\n",
       "    </tr>\n",
       "  </thead>\n",
       "  <tbody>\n",
       "    <tr>\n",
       "      <th>0</th>\n",
       "      <td>NetSales</td>\n",
       "      <td>100144</td>\n",
       "    </tr>\n",
       "    <tr>\n",
       "      <th>1</th>\n",
       "      <td>CostofSales</td>\n",
       "      <td>79878</td>\n",
       "    </tr>\n",
       "    <tr>\n",
       "      <th>2</th>\n",
       "      <td>Profit</td>\n",
       "      <td>20266</td>\n",
       "    </tr>\n",
       "  </tbody>\n",
       "</table>\n",
       "</div>"
      ],
      "text/plain": [
       "         index       0\n",
       "0     NetSales  100144\n",
       "1  CostofSales   79878\n",
       "2       Profit   20266"
      ]
     },
     "execution_count": 36,
     "metadata": {},
     "output_type": "execute_result"
    }
   ],
   "source": [
    "snp_a1 = A1[[\"NetSales\",\"CostofSales\",\"Profit\"]].sum().reset_index()\n",
    "snp_a1"
   ]
  },
  {
   "cell_type": "markdown",
   "id": "1d7c8b62",
   "metadata": {},
   "source": [
    "Net sales, cost of sales and profit for Company \"A1\""
   ]
  },
  {
   "cell_type": "markdown",
   "id": "b14d46d4",
   "metadata": {},
   "source": [
    "Most profitable departments of Company \"A1\""
   ]
  },
  {
   "cell_type": "code",
   "execution_count": 37,
   "id": "e67c3d3b",
   "metadata": {},
   "outputs": [
    {
     "data": {
      "text/html": [
       "<div>\n",
       "<style scoped>\n",
       "    .dataframe tbody tr th:only-of-type {\n",
       "        vertical-align: middle;\n",
       "    }\n",
       "\n",
       "    .dataframe tbody tr th {\n",
       "        vertical-align: top;\n",
       "    }\n",
       "\n",
       "    .dataframe thead th {\n",
       "        text-align: right;\n",
       "    }\n",
       "</style>\n",
       "<table border=\"1\" class=\"dataframe\">\n",
       "  <thead>\n",
       "    <tr style=\"text-align: right;\">\n",
       "      <th></th>\n",
       "      <th>Department</th>\n",
       "      <th>Profit</th>\n",
       "    </tr>\n",
       "  </thead>\n",
       "  <tbody>\n",
       "    <tr>\n",
       "      <th>4</th>\n",
       "      <td>dept-a1-05</td>\n",
       "      <td>1589</td>\n",
       "    </tr>\n",
       "    <tr>\n",
       "      <th>31</th>\n",
       "      <td>dept-a1-32</td>\n",
       "      <td>1551</td>\n",
       "    </tr>\n",
       "    <tr>\n",
       "      <th>57</th>\n",
       "      <td>dept-a1-58</td>\n",
       "      <td>1332</td>\n",
       "    </tr>\n",
       "    <tr>\n",
       "      <th>5</th>\n",
       "      <td>dept-a1-06</td>\n",
       "      <td>1312</td>\n",
       "    </tr>\n",
       "    <tr>\n",
       "      <th>21</th>\n",
       "      <td>dept-a1-22</td>\n",
       "      <td>1296</td>\n",
       "    </tr>\n",
       "    <tr>\n",
       "      <th>2</th>\n",
       "      <td>dept-a1-03</td>\n",
       "      <td>1194</td>\n",
       "    </tr>\n",
       "    <tr>\n",
       "      <th>24</th>\n",
       "      <td>dept-a1-25</td>\n",
       "      <td>1178</td>\n",
       "    </tr>\n",
       "    <tr>\n",
       "      <th>62</th>\n",
       "      <td>dept-a1-63</td>\n",
       "      <td>1137</td>\n",
       "    </tr>\n",
       "    <tr>\n",
       "      <th>55</th>\n",
       "      <td>dept-a1-56</td>\n",
       "      <td>1129</td>\n",
       "    </tr>\n",
       "    <tr>\n",
       "      <th>16</th>\n",
       "      <td>dept-a1-17</td>\n",
       "      <td>1058</td>\n",
       "    </tr>\n",
       "  </tbody>\n",
       "</table>\n",
       "</div>"
      ],
      "text/plain": [
       "    Department  Profit\n",
       "4   dept-a1-05    1589\n",
       "31  dept-a1-32    1551\n",
       "57  dept-a1-58    1332\n",
       "5   dept-a1-06    1312\n",
       "21  dept-a1-22    1296\n",
       "2   dept-a1-03    1194\n",
       "24  dept-a1-25    1178\n",
       "62  dept-a1-63    1137\n",
       "55  dept-a1-56    1129\n",
       "16  dept-a1-17    1058"
      ]
     },
     "execution_count": 37,
     "metadata": {},
     "output_type": "execute_result"
    }
   ],
   "source": [
    "dep_snp_a1 = A1.groupby(\"Department\")[\"Profit\"].sum().reset_index()\n",
    "dep_snp_a1.nlargest(10,\"Profit\")"
   ]
  },
  {
   "cell_type": "markdown",
   "id": "1f25c7f2",
   "metadata": {},
   "source": [
    "Least profitable departments of Company \"A1\""
   ]
  },
  {
   "cell_type": "code",
   "execution_count": 38,
   "id": "77bc8519",
   "metadata": {},
   "outputs": [
    {
     "data": {
      "text/html": [
       "<div>\n",
       "<style scoped>\n",
       "    .dataframe tbody tr th:only-of-type {\n",
       "        vertical-align: middle;\n",
       "    }\n",
       "\n",
       "    .dataframe tbody tr th {\n",
       "        vertical-align: top;\n",
       "    }\n",
       "\n",
       "    .dataframe thead th {\n",
       "        text-align: right;\n",
       "    }\n",
       "</style>\n",
       "<table border=\"1\" class=\"dataframe\">\n",
       "  <thead>\n",
       "    <tr style=\"text-align: right;\">\n",
       "      <th></th>\n",
       "      <th>Department</th>\n",
       "      <th>Profit</th>\n",
       "    </tr>\n",
       "  </thead>\n",
       "  <tbody>\n",
       "    <tr>\n",
       "      <th>36</th>\n",
       "      <td>dept-a1-37</td>\n",
       "      <td>-1136</td>\n",
       "    </tr>\n",
       "    <tr>\n",
       "      <th>41</th>\n",
       "      <td>dept-a1-42</td>\n",
       "      <td>-1077</td>\n",
       "    </tr>\n",
       "    <tr>\n",
       "      <th>18</th>\n",
       "      <td>dept-a1-19</td>\n",
       "      <td>-948</td>\n",
       "    </tr>\n",
       "    <tr>\n",
       "      <th>33</th>\n",
       "      <td>dept-a1-34</td>\n",
       "      <td>-939</td>\n",
       "    </tr>\n",
       "    <tr>\n",
       "      <th>28</th>\n",
       "      <td>dept-a1-29</td>\n",
       "      <td>-812</td>\n",
       "    </tr>\n",
       "    <tr>\n",
       "      <th>60</th>\n",
       "      <td>dept-a1-61</td>\n",
       "      <td>-804</td>\n",
       "    </tr>\n",
       "    <tr>\n",
       "      <th>56</th>\n",
       "      <td>dept-a1-57</td>\n",
       "      <td>-750</td>\n",
       "    </tr>\n",
       "    <tr>\n",
       "      <th>17</th>\n",
       "      <td>dept-a1-18</td>\n",
       "      <td>-660</td>\n",
       "    </tr>\n",
       "    <tr>\n",
       "      <th>63</th>\n",
       "      <td>dept-a1-64</td>\n",
       "      <td>-481</td>\n",
       "    </tr>\n",
       "    <tr>\n",
       "      <th>42</th>\n",
       "      <td>dept-a1-43</td>\n",
       "      <td>-432</td>\n",
       "    </tr>\n",
       "  </tbody>\n",
       "</table>\n",
       "</div>"
      ],
      "text/plain": [
       "    Department  Profit\n",
       "36  dept-a1-37   -1136\n",
       "41  dept-a1-42   -1077\n",
       "18  dept-a1-19    -948\n",
       "33  dept-a1-34    -939\n",
       "28  dept-a1-29    -812\n",
       "60  dept-a1-61    -804\n",
       "56  dept-a1-57    -750\n",
       "17  dept-a1-18    -660\n",
       "63  dept-a1-64    -481\n",
       "42  dept-a1-43    -432"
      ]
     },
     "execution_count": 38,
     "metadata": {},
     "output_type": "execute_result"
    }
   ],
   "source": [
    "dep_snp_a1.nsmallest(10,\"Profit\")"
   ]
  },
  {
   "cell_type": "markdown",
   "id": "b0140ae4",
   "metadata": {},
   "source": [
    "## Company \"A2\""
   ]
  },
  {
   "cell_type": "code",
   "execution_count": 39,
   "id": "c05c5515",
   "metadata": {},
   "outputs": [
    {
     "data": {
      "text/html": [
       "<div>\n",
       "<style scoped>\n",
       "    .dataframe tbody tr th:only-of-type {\n",
       "        vertical-align: middle;\n",
       "    }\n",
       "\n",
       "    .dataframe tbody tr th {\n",
       "        vertical-align: top;\n",
       "    }\n",
       "\n",
       "    .dataframe thead th {\n",
       "        text-align: right;\n",
       "    }\n",
       "</style>\n",
       "<table border=\"1\" class=\"dataframe\">\n",
       "  <thead>\n",
       "    <tr style=\"text-align: right;\">\n",
       "      <th></th>\n",
       "      <th>CompanyName</th>\n",
       "      <th>Industry</th>\n",
       "      <th>Department</th>\n",
       "      <th>YearOfEstablishment</th>\n",
       "      <th>NetSales</th>\n",
       "      <th>CostofSales</th>\n",
       "      <th>Profit</th>\n",
       "    </tr>\n",
       "  </thead>\n",
       "  <tbody>\n",
       "    <tr>\n",
       "      <th>73</th>\n",
       "      <td>Company \"A2\"</td>\n",
       "      <td>Construction</td>\n",
       "      <td>dept-a2-01</td>\n",
       "      <td>1987</td>\n",
       "      <td>1175</td>\n",
       "      <td>991</td>\n",
       "      <td>184</td>\n",
       "    </tr>\n",
       "    <tr>\n",
       "      <th>74</th>\n",
       "      <td>Company \"A2\"</td>\n",
       "      <td>Construction</td>\n",
       "      <td>dept-a2-02</td>\n",
       "      <td>1987</td>\n",
       "      <td>1739</td>\n",
       "      <td>1360</td>\n",
       "      <td>379</td>\n",
       "    </tr>\n",
       "    <tr>\n",
       "      <th>75</th>\n",
       "      <td>Company \"A2\"</td>\n",
       "      <td>Construction</td>\n",
       "      <td>dept-a2-03</td>\n",
       "      <td>1987</td>\n",
       "      <td>1679</td>\n",
       "      <td>1713</td>\n",
       "      <td>-34</td>\n",
       "    </tr>\n",
       "    <tr>\n",
       "      <th>76</th>\n",
       "      <td>Company \"A2\"</td>\n",
       "      <td>Construction</td>\n",
       "      <td>dept-a2-04</td>\n",
       "      <td>1987</td>\n",
       "      <td>2331</td>\n",
       "      <td>1293</td>\n",
       "      <td>1038</td>\n",
       "    </tr>\n",
       "    <tr>\n",
       "      <th>77</th>\n",
       "      <td>Company \"A2\"</td>\n",
       "      <td>Construction</td>\n",
       "      <td>dept-a2-05</td>\n",
       "      <td>1987</td>\n",
       "      <td>816</td>\n",
       "      <td>1737</td>\n",
       "      <td>-921</td>\n",
       "    </tr>\n",
       "  </tbody>\n",
       "</table>\n",
       "</div>"
      ],
      "text/plain": [
       "     CompanyName      Industry  Department  YearOfEstablishment  NetSales  \\\n",
       "73  Company \"A2\"  Construction  dept-a2-01                 1987      1175   \n",
       "74  Company \"A2\"  Construction  dept-a2-02                 1987      1739   \n",
       "75  Company \"A2\"  Construction  dept-a2-03                 1987      1679   \n",
       "76  Company \"A2\"  Construction  dept-a2-04                 1987      2331   \n",
       "77  Company \"A2\"  Construction  dept-a2-05                 1987       816   \n",
       "\n",
       "    CostofSales  Profit  \n",
       "73          991     184  \n",
       "74         1360     379  \n",
       "75         1713     -34  \n",
       "76         1293    1038  \n",
       "77         1737    -921  "
      ]
     },
     "execution_count": 39,
     "metadata": {},
     "output_type": "execute_result"
    }
   ],
   "source": [
    "A2 = df.loc[df[\"CompanyName\"] == \"Company \\\"A2\\\"\"]\n",
    "A2.head()"
   ]
  },
  {
   "cell_type": "code",
   "execution_count": 40,
   "id": "dfba582a",
   "metadata": {},
   "outputs": [
    {
     "data": {
      "text/plain": [
       "69"
      ]
     },
     "execution_count": 40,
     "metadata": {},
     "output_type": "execute_result"
    }
   ],
   "source": [
    "len(A2[\"Department\"])"
   ]
  },
  {
   "cell_type": "markdown",
   "id": "08ac0de4",
   "metadata": {},
   "source": [
    "Company \"A2\" has 69 departments"
   ]
  },
  {
   "cell_type": "code",
   "execution_count": 41,
   "id": "580a8c8e",
   "metadata": {},
   "outputs": [
    {
     "data": {
      "text/plain": [
       "array(['Construction', 'Utilities'], dtype=object)"
      ]
     },
     "execution_count": 41,
     "metadata": {},
     "output_type": "execute_result"
    }
   ],
   "source": [
    "A2[\"Industry\"].unique()"
   ]
  },
  {
   "cell_type": "markdown",
   "id": "0dc63524",
   "metadata": {},
   "source": [
    "Company \"A2\" works on construction and utilities industries"
   ]
  },
  {
   "cell_type": "code",
   "execution_count": 42,
   "id": "c252b8f5",
   "metadata": {},
   "outputs": [
    {
     "data": {
      "image/png": "[encoded data removed]",
      "text/plain": [
       "<Figure size 640x480 with 1 Axes>"
      ]
     },
     "metadata": {},
     "output_type": "display_data"
    }
   ],
   "source": [
    "ind_snp2 = A2.groupby(\"Industry\")[[\"NetSales\",\"Profit\"]].sum().reset_index()\n",
    "\n",
    "\n",
    "plt.bar(ind_snp2[\"Industry\"],ind_snp2[\"NetSales\"],label = \"Net Sales\")\n",
    "plt.bar(ind_snp2[\"Industry\"],ind_snp2[\"Profit\"],label = \"Profit\")\n",
    "\n",
    "\n",
    "plt.legend()\n",
    "plt.show()"
   ]
  },
  {
   "cell_type": "markdown",
   "id": "a9a273c4",
   "metadata": {},
   "source": [
    "The most amount of sales and profit comes from comunication industry"
   ]
  },
  {
   "cell_type": "markdown",
   "id": "97828e27",
   "metadata": {},
   "source": [
    "Net sales, cost of sales and profit for Company \"A2\""
   ]
  },
  {
   "cell_type": "code",
   "execution_count": 43,
   "id": "f6900bdd",
   "metadata": {},
   "outputs": [
    {
     "data": {
      "text/html": [
       "<div>\n",
       "<style scoped>\n",
       "    .dataframe tbody tr th:only-of-type {\n",
       "        vertical-align: middle;\n",
       "    }\n",
       "\n",
       "    .dataframe tbody tr th {\n",
       "        vertical-align: top;\n",
       "    }\n",
       "\n",
       "    .dataframe thead th {\n",
       "        text-align: right;\n",
       "    }\n",
       "</style>\n",
       "<table border=\"1\" class=\"dataframe\">\n",
       "  <thead>\n",
       "    <tr style=\"text-align: right;\">\n",
       "      <th></th>\n",
       "      <th>index</th>\n",
       "      <th>0</th>\n",
       "    </tr>\n",
       "  </thead>\n",
       "  <tbody>\n",
       "    <tr>\n",
       "      <th>0</th>\n",
       "      <td>NetSales</td>\n",
       "      <td>97382</td>\n",
       "    </tr>\n",
       "    <tr>\n",
       "      <th>1</th>\n",
       "      <td>CostofSales</td>\n",
       "      <td>74322</td>\n",
       "    </tr>\n",
       "    <tr>\n",
       "      <th>2</th>\n",
       "      <td>Profit</td>\n",
       "      <td>23060</td>\n",
       "    </tr>\n",
       "  </tbody>\n",
       "</table>\n",
       "</div>"
      ],
      "text/plain": [
       "         index      0\n",
       "0     NetSales  97382\n",
       "1  CostofSales  74322\n",
       "2       Profit  23060"
      ]
     },
     "execution_count": 43,
     "metadata": {},
     "output_type": "execute_result"
    }
   ],
   "source": [
    "snp_a2 = A2[[\"NetSales\",\"CostofSales\",\"Profit\"]].sum().reset_index()\n",
    "snp_a2"
   ]
  },
  {
   "cell_type": "markdown",
   "id": "8681d59d",
   "metadata": {},
   "source": [
    "Most profitable departments of Company \"A2\""
   ]
  },
  {
   "cell_type": "code",
   "execution_count": 44,
   "id": "a9330009",
   "metadata": {},
   "outputs": [
    {
     "data": {
      "text/html": [
       "<div>\n",
       "<style scoped>\n",
       "    .dataframe tbody tr th:only-of-type {\n",
       "        vertical-align: middle;\n",
       "    }\n",
       "\n",
       "    .dataframe tbody tr th {\n",
       "        vertical-align: top;\n",
       "    }\n",
       "\n",
       "    .dataframe thead th {\n",
       "        text-align: right;\n",
       "    }\n",
       "</style>\n",
       "<table border=\"1\" class=\"dataframe\">\n",
       "  <thead>\n",
       "    <tr style=\"text-align: right;\">\n",
       "      <th></th>\n",
       "      <th>Department</th>\n",
       "      <th>Profit</th>\n",
       "    </tr>\n",
       "  </thead>\n",
       "  <tbody>\n",
       "    <tr>\n",
       "      <th>27</th>\n",
       "      <td>dept-a2-28</td>\n",
       "      <td>1680</td>\n",
       "    </tr>\n",
       "    <tr>\n",
       "      <th>21</th>\n",
       "      <td>dept-a2-22</td>\n",
       "      <td>1560</td>\n",
       "    </tr>\n",
       "    <tr>\n",
       "      <th>35</th>\n",
       "      <td>dept-a2-36</td>\n",
       "      <td>1497</td>\n",
       "    </tr>\n",
       "    <tr>\n",
       "      <th>59</th>\n",
       "      <td>dept-a2-60</td>\n",
       "      <td>1355</td>\n",
       "    </tr>\n",
       "    <tr>\n",
       "      <th>31</th>\n",
       "      <td>dept-a2-32</td>\n",
       "      <td>1306</td>\n",
       "    </tr>\n",
       "    <tr>\n",
       "      <th>42</th>\n",
       "      <td>dept-a2-43</td>\n",
       "      <td>1304</td>\n",
       "    </tr>\n",
       "    <tr>\n",
       "      <th>45</th>\n",
       "      <td>dept-a2-46</td>\n",
       "      <td>1296</td>\n",
       "    </tr>\n",
       "    <tr>\n",
       "      <th>15</th>\n",
       "      <td>dept-a2-16</td>\n",
       "      <td>1193</td>\n",
       "    </tr>\n",
       "    <tr>\n",
       "      <th>22</th>\n",
       "      <td>dept-a2-23</td>\n",
       "      <td>1081</td>\n",
       "    </tr>\n",
       "    <tr>\n",
       "      <th>3</th>\n",
       "      <td>dept-a2-04</td>\n",
       "      <td>1038</td>\n",
       "    </tr>\n",
       "  </tbody>\n",
       "</table>\n",
       "</div>"
      ],
      "text/plain": [
       "    Department  Profit\n",
       "27  dept-a2-28    1680\n",
       "21  dept-a2-22    1560\n",
       "35  dept-a2-36    1497\n",
       "59  dept-a2-60    1355\n",
       "31  dept-a2-32    1306\n",
       "42  dept-a2-43    1304\n",
       "45  dept-a2-46    1296\n",
       "15  dept-a2-16    1193\n",
       "22  dept-a2-23    1081\n",
       "3   dept-a2-04    1038"
      ]
     },
     "execution_count": 44,
     "metadata": {},
     "output_type": "execute_result"
    }
   ],
   "source": [
    "dep_snp_a2 = A2.groupby(\"Department\")[\"Profit\"].sum().reset_index()\n",
    "dep_snp_a2.nlargest(10,\"Profit\")"
   ]
  },
  {
   "cell_type": "markdown",
   "id": "db9e2856",
   "metadata": {},
   "source": [
    "Least profitable departments of Company \"A2\""
   ]
  },
  {
   "cell_type": "code",
   "execution_count": 45,
   "id": "80231d01",
   "metadata": {},
   "outputs": [
    {
     "data": {
      "text/html": [
       "<div>\n",
       "<style scoped>\n",
       "    .dataframe tbody tr th:only-of-type {\n",
       "        vertical-align: middle;\n",
       "    }\n",
       "\n",
       "    .dataframe tbody tr th {\n",
       "        vertical-align: top;\n",
       "    }\n",
       "\n",
       "    .dataframe thead th {\n",
       "        text-align: right;\n",
       "    }\n",
       "</style>\n",
       "<table border=\"1\" class=\"dataframe\">\n",
       "  <thead>\n",
       "    <tr style=\"text-align: right;\">\n",
       "      <th></th>\n",
       "      <th>Department</th>\n",
       "      <th>Profit</th>\n",
       "    </tr>\n",
       "  </thead>\n",
       "  <tbody>\n",
       "    <tr>\n",
       "      <th>34</th>\n",
       "      <td>dept-a2-35</td>\n",
       "      <td>-1065</td>\n",
       "    </tr>\n",
       "    <tr>\n",
       "      <th>4</th>\n",
       "      <td>dept-a2-05</td>\n",
       "      <td>-921</td>\n",
       "    </tr>\n",
       "    <tr>\n",
       "      <th>26</th>\n",
       "      <td>dept-a2-27</td>\n",
       "      <td>-720</td>\n",
       "    </tr>\n",
       "    <tr>\n",
       "      <th>68</th>\n",
       "      <td>dept-a2-69</td>\n",
       "      <td>-718</td>\n",
       "    </tr>\n",
       "    <tr>\n",
       "      <th>41</th>\n",
       "      <td>dept-a2-42</td>\n",
       "      <td>-652</td>\n",
       "    </tr>\n",
       "    <tr>\n",
       "      <th>56</th>\n",
       "      <td>dept-a2-57</td>\n",
       "      <td>-564</td>\n",
       "    </tr>\n",
       "    <tr>\n",
       "      <th>54</th>\n",
       "      <td>dept-a2-55</td>\n",
       "      <td>-563</td>\n",
       "    </tr>\n",
       "    <tr>\n",
       "      <th>20</th>\n",
       "      <td>dept-a2-21</td>\n",
       "      <td>-548</td>\n",
       "    </tr>\n",
       "    <tr>\n",
       "      <th>53</th>\n",
       "      <td>dept-a2-54</td>\n",
       "      <td>-454</td>\n",
       "    </tr>\n",
       "    <tr>\n",
       "      <th>19</th>\n",
       "      <td>dept-a2-20</td>\n",
       "      <td>-315</td>\n",
       "    </tr>\n",
       "  </tbody>\n",
       "</table>\n",
       "</div>"
      ],
      "text/plain": [
       "    Department  Profit\n",
       "34  dept-a2-35   -1065\n",
       "4   dept-a2-05    -921\n",
       "26  dept-a2-27    -720\n",
       "68  dept-a2-69    -718\n",
       "41  dept-a2-42    -652\n",
       "56  dept-a2-57    -564\n",
       "54  dept-a2-55    -563\n",
       "20  dept-a2-21    -548\n",
       "53  dept-a2-54    -454\n",
       "19  dept-a2-20    -315"
      ]
     },
     "execution_count": 45,
     "metadata": {},
     "output_type": "execute_result"
    }
   ],
   "source": [
    "dep_snp_a2.nsmallest(10,\"Profit\")"
   ]
  },
  {
   "cell_type": "markdown",
   "id": "d6ada0b5",
   "metadata": {},
   "source": [
    "## Company \"B1\""
   ]
  },
  {
   "cell_type": "code",
   "execution_count": 46,
   "id": "1c9b9698",
   "metadata": {},
   "outputs": [
    {
     "data": {
      "text/html": [
       "<div>\n",
       "<style scoped>\n",
       "    .dataframe tbody tr th:only-of-type {\n",
       "        vertical-align: middle;\n",
       "    }\n",
       "\n",
       "    .dataframe tbody tr th {\n",
       "        vertical-align: top;\n",
       "    }\n",
       "\n",
       "    .dataframe thead th {\n",
       "        text-align: right;\n",
       "    }\n",
       "</style>\n",
       "<table border=\"1\" class=\"dataframe\">\n",
       "  <thead>\n",
       "    <tr style=\"text-align: right;\">\n",
       "      <th></th>\n",
       "      <th>CompanyName</th>\n",
       "      <th>Industry</th>\n",
       "      <th>Department</th>\n",
       "      <th>YearOfEstablishment</th>\n",
       "      <th>NetSales</th>\n",
       "      <th>CostofSales</th>\n",
       "      <th>Profit</th>\n",
       "    </tr>\n",
       "  </thead>\n",
       "  <tbody>\n",
       "    <tr>\n",
       "      <th>142</th>\n",
       "      <td>Company \"B1\"</td>\n",
       "      <td>Electronics</td>\n",
       "      <td>dept-b1-01</td>\n",
       "      <td>1990</td>\n",
       "      <td>806</td>\n",
       "      <td>862</td>\n",
       "      <td>-56</td>\n",
       "    </tr>\n",
       "    <tr>\n",
       "      <th>143</th>\n",
       "      <td>Company \"B1\"</td>\n",
       "      <td>Electronics</td>\n",
       "      <td>dept-b1-02</td>\n",
       "      <td>1990</td>\n",
       "      <td>1636</td>\n",
       "      <td>1097</td>\n",
       "      <td>539</td>\n",
       "    </tr>\n",
       "    <tr>\n",
       "      <th>144</th>\n",
       "      <td>Company \"B1\"</td>\n",
       "      <td>Electronics</td>\n",
       "      <td>dept-b1-03</td>\n",
       "      <td>1990</td>\n",
       "      <td>828</td>\n",
       "      <td>1097</td>\n",
       "      <td>-269</td>\n",
       "    </tr>\n",
       "    <tr>\n",
       "      <th>145</th>\n",
       "      <td>Company \"B1\"</td>\n",
       "      <td>Electronics</td>\n",
       "      <td>dept-b1-04</td>\n",
       "      <td>1990</td>\n",
       "      <td>1055</td>\n",
       "      <td>1138</td>\n",
       "      <td>-83</td>\n",
       "    </tr>\n",
       "    <tr>\n",
       "      <th>146</th>\n",
       "      <td>Company \"B1\"</td>\n",
       "      <td>Electronics</td>\n",
       "      <td>dept-b1-05</td>\n",
       "      <td>1990</td>\n",
       "      <td>635</td>\n",
       "      <td>692</td>\n",
       "      <td>-57</td>\n",
       "    </tr>\n",
       "  </tbody>\n",
       "</table>\n",
       "</div>"
      ],
      "text/plain": [
       "      CompanyName     Industry  Department  YearOfEstablishment  NetSales  \\\n",
       "142  Company \"B1\"  Electronics  dept-b1-01                 1990       806   \n",
       "143  Company \"B1\"  Electronics  dept-b1-02                 1990      1636   \n",
       "144  Company \"B1\"  Electronics  dept-b1-03                 1990       828   \n",
       "145  Company \"B1\"  Electronics  dept-b1-04                 1990      1055   \n",
       "146  Company \"B1\"  Electronics  dept-b1-05                 1990       635   \n",
       "\n",
       "     CostofSales  Profit  \n",
       "142          862     -56  \n",
       "143         1097     539  \n",
       "144         1097    -269  \n",
       "145         1138     -83  \n",
       "146          692     -57  "
      ]
     },
     "execution_count": 46,
     "metadata": {},
     "output_type": "execute_result"
    }
   ],
   "source": [
    "B1 = df.loc[df[\"CompanyName\"] == \"Company \\\"B1\\\"\"]\n",
    "B1.head()"
   ]
  },
  {
   "cell_type": "code",
   "execution_count": 47,
   "id": "bb50774c",
   "metadata": {},
   "outputs": [
    {
     "data": {
      "text/plain": [
       "114"
      ]
     },
     "execution_count": 47,
     "metadata": {},
     "output_type": "execute_result"
    }
   ],
   "source": [
    "len(B1[\"Department\"])"
   ]
  },
  {
   "cell_type": "markdown",
   "id": "a78d5c2b",
   "metadata": {},
   "source": [
    "Company \"B1\" has 114 departments"
   ]
  },
  {
   "cell_type": "code",
   "execution_count": 48,
   "id": "c7031320",
   "metadata": {},
   "outputs": [
    {
     "data": {
      "text/plain": [
       "array(['Electronics'], dtype=object)"
      ]
     },
     "execution_count": 48,
     "metadata": {},
     "output_type": "execute_result"
    }
   ],
   "source": [
    "B1[\"Industry\"].unique()"
   ]
  },
  {
   "cell_type": "markdown",
   "id": "d53b8f05",
   "metadata": {},
   "source": [
    "Company \"B1\" just works on electronics industry"
   ]
  },
  {
   "cell_type": "code",
   "execution_count": 49,
   "id": "bbcc7b44",
   "metadata": {},
   "outputs": [
    {
     "data": {
      "image/png": "[encoded data removed]",
      "text/plain": [
       "<Figure size 640x480 with 1 Axes>"
      ]
     },
     "metadata": {},
     "output_type": "display_data"
    }
   ],
   "source": [
    "ind_snp3 = B1.groupby(\"Industry\")[[\"NetSales\",\"Profit\"]].sum().reset_index()\n",
    "\n",
    "\n",
    "plt.bar(ind_snp3[\"Industry\"],ind_snp3[\"NetSales\"],label = \"Net Sales\")\n",
    "plt.bar(ind_snp3[\"Industry\"],ind_snp3[\"Profit\"],label = \"Profit\")\n",
    "\n",
    "\n",
    "plt.legend()\n",
    "plt.show()"
   ]
  },
  {
   "cell_type": "markdown",
   "id": "13148d7b",
   "metadata": {},
   "source": [
    "Net sales, cost of sales and profit for Company \"B1\""
   ]
  },
  {
   "cell_type": "code",
   "execution_count": 50,
   "id": "ab11ab8b",
   "metadata": {},
   "outputs": [
    {
     "data": {
      "text/html": [
       "<div>\n",
       "<style scoped>\n",
       "    .dataframe tbody tr th:only-of-type {\n",
       "        vertical-align: middle;\n",
       "    }\n",
       "\n",
       "    .dataframe tbody tr th {\n",
       "        vertical-align: top;\n",
       "    }\n",
       "\n",
       "    .dataframe thead th {\n",
       "        text-align: right;\n",
       "    }\n",
       "</style>\n",
       "<table border=\"1\" class=\"dataframe\">\n",
       "  <thead>\n",
       "    <tr style=\"text-align: right;\">\n",
       "      <th></th>\n",
       "      <th>index</th>\n",
       "      <th>0</th>\n",
       "    </tr>\n",
       "  </thead>\n",
       "  <tbody>\n",
       "    <tr>\n",
       "      <th>0</th>\n",
       "      <td>NetSales</td>\n",
       "      <td>163987</td>\n",
       "    </tr>\n",
       "    <tr>\n",
       "      <th>1</th>\n",
       "      <td>CostofSales</td>\n",
       "      <td>126376</td>\n",
       "    </tr>\n",
       "    <tr>\n",
       "      <th>2</th>\n",
       "      <td>Profit</td>\n",
       "      <td>37611</td>\n",
       "    </tr>\n",
       "  </tbody>\n",
       "</table>\n",
       "</div>"
      ],
      "text/plain": [
       "         index       0\n",
       "0     NetSales  163987\n",
       "1  CostofSales  126376\n",
       "2       Profit   37611"
      ]
     },
     "execution_count": 50,
     "metadata": {},
     "output_type": "execute_result"
    }
   ],
   "source": [
    "snp_b1 = B1[[\"NetSales\",\"CostofSales\",\"Profit\"]].sum().reset_index()\n",
    "snp_b1"
   ]
  },
  {
   "cell_type": "markdown",
   "id": "13f52b4e",
   "metadata": {},
   "source": [
    "Most profitable departments of Company \"B1\""
   ]
  },
  {
   "cell_type": "code",
   "execution_count": 51,
   "id": "76f74243",
   "metadata": {},
   "outputs": [
    {
     "data": {
      "text/html": [
       "<div>\n",
       "<style scoped>\n",
       "    .dataframe tbody tr th:only-of-type {\n",
       "        vertical-align: middle;\n",
       "    }\n",
       "\n",
       "    .dataframe tbody tr th {\n",
       "        vertical-align: top;\n",
       "    }\n",
       "\n",
       "    .dataframe thead th {\n",
       "        text-align: right;\n",
       "    }\n",
       "</style>\n",
       "<table border=\"1\" class=\"dataframe\">\n",
       "  <thead>\n",
       "    <tr style=\"text-align: right;\">\n",
       "      <th></th>\n",
       "      <th>Department</th>\n",
       "      <th>Profit</th>\n",
       "    </tr>\n",
       "  </thead>\n",
       "  <tbody>\n",
       "    <tr>\n",
       "      <th>104</th>\n",
       "      <td>dept-b1-90</td>\n",
       "      <td>1777</td>\n",
       "    </tr>\n",
       "    <tr>\n",
       "      <th>41</th>\n",
       "      <td>dept-b1-27</td>\n",
       "      <td>1734</td>\n",
       "    </tr>\n",
       "    <tr>\n",
       "      <th>39</th>\n",
       "      <td>dept-b1-25</td>\n",
       "      <td>1727</td>\n",
       "    </tr>\n",
       "    <tr>\n",
       "      <th>45</th>\n",
       "      <td>dept-b1-31</td>\n",
       "      <td>1707</td>\n",
       "    </tr>\n",
       "    <tr>\n",
       "      <th>65</th>\n",
       "      <td>dept-b1-51</td>\n",
       "      <td>1689</td>\n",
       "    </tr>\n",
       "    <tr>\n",
       "      <th>34</th>\n",
       "      <td>dept-b1-20</td>\n",
       "      <td>1624</td>\n",
       "    </tr>\n",
       "    <tr>\n",
       "      <th>102</th>\n",
       "      <td>dept-b1-88</td>\n",
       "      <td>1539</td>\n",
       "    </tr>\n",
       "    <tr>\n",
       "      <th>63</th>\n",
       "      <td>dept-b1-49</td>\n",
       "      <td>1481</td>\n",
       "    </tr>\n",
       "    <tr>\n",
       "      <th>95</th>\n",
       "      <td>dept-b1-81</td>\n",
       "      <td>1422</td>\n",
       "    </tr>\n",
       "    <tr>\n",
       "      <th>69</th>\n",
       "      <td>dept-b1-55</td>\n",
       "      <td>1405</td>\n",
       "    </tr>\n",
       "  </tbody>\n",
       "</table>\n",
       "</div>"
      ],
      "text/plain": [
       "     Department  Profit\n",
       "104  dept-b1-90    1777\n",
       "41   dept-b1-27    1734\n",
       "39   dept-b1-25    1727\n",
       "45   dept-b1-31    1707\n",
       "65   dept-b1-51    1689\n",
       "34   dept-b1-20    1624\n",
       "102  dept-b1-88    1539\n",
       "63   dept-b1-49    1481\n",
       "95   dept-b1-81    1422\n",
       "69   dept-b1-55    1405"
      ]
     },
     "execution_count": 51,
     "metadata": {},
     "output_type": "execute_result"
    }
   ],
   "source": [
    "dep_snp_b1 = B1.groupby(\"Department\")[\"Profit\"].sum().reset_index()\n",
    "dep_snp_b1.nlargest(10,\"Profit\")"
   ]
  },
  {
   "cell_type": "markdown",
   "id": "09e2174a",
   "metadata": {},
   "source": [
    "Least profitable departments of Company \"B1\""
   ]
  },
  {
   "cell_type": "code",
   "execution_count": 52,
   "id": "81226cc2",
   "metadata": {},
   "outputs": [
    {
     "data": {
      "text/html": [
       "<div>\n",
       "<style scoped>\n",
       "    .dataframe tbody tr th:only-of-type {\n",
       "        vertical-align: middle;\n",
       "    }\n",
       "\n",
       "    .dataframe tbody tr th {\n",
       "        vertical-align: top;\n",
       "    }\n",
       "\n",
       "    .dataframe thead th {\n",
       "        text-align: right;\n",
       "    }\n",
       "</style>\n",
       "<table border=\"1\" class=\"dataframe\">\n",
       "  <thead>\n",
       "    <tr style=\"text-align: right;\">\n",
       "      <th></th>\n",
       "      <th>Department</th>\n",
       "      <th>Profit</th>\n",
       "    </tr>\n",
       "  </thead>\n",
       "  <tbody>\n",
       "    <tr>\n",
       "      <th>112</th>\n",
       "      <td>dept-b1-98</td>\n",
       "      <td>-1122</td>\n",
       "    </tr>\n",
       "    <tr>\n",
       "      <th>113</th>\n",
       "      <td>dept-b1-99</td>\n",
       "      <td>-1030</td>\n",
       "    </tr>\n",
       "    <tr>\n",
       "      <th>43</th>\n",
       "      <td>dept-b1-29</td>\n",
       "      <td>-971</td>\n",
       "    </tr>\n",
       "    <tr>\n",
       "      <th>54</th>\n",
       "      <td>dept-b1-40</td>\n",
       "      <td>-818</td>\n",
       "    </tr>\n",
       "    <tr>\n",
       "      <th>38</th>\n",
       "      <td>dept-b1-24</td>\n",
       "      <td>-798</td>\n",
       "    </tr>\n",
       "    <tr>\n",
       "      <th>18</th>\n",
       "      <td>dept-b1-108</td>\n",
       "      <td>-736</td>\n",
       "    </tr>\n",
       "    <tr>\n",
       "      <th>108</th>\n",
       "      <td>dept-b1-94</td>\n",
       "      <td>-731</td>\n",
       "    </tr>\n",
       "    <tr>\n",
       "      <th>26</th>\n",
       "      <td>dept-b1-12</td>\n",
       "      <td>-725</td>\n",
       "    </tr>\n",
       "    <tr>\n",
       "      <th>85</th>\n",
       "      <td>dept-b1-71</td>\n",
       "      <td>-690</td>\n",
       "    </tr>\n",
       "    <tr>\n",
       "      <th>74</th>\n",
       "      <td>dept-b1-60</td>\n",
       "      <td>-651</td>\n",
       "    </tr>\n",
       "  </tbody>\n",
       "</table>\n",
       "</div>"
      ],
      "text/plain": [
       "      Department  Profit\n",
       "112   dept-b1-98   -1122\n",
       "113   dept-b1-99   -1030\n",
       "43    dept-b1-29    -971\n",
       "54    dept-b1-40    -818\n",
       "38    dept-b1-24    -798\n",
       "18   dept-b1-108    -736\n",
       "108   dept-b1-94    -731\n",
       "26    dept-b1-12    -725\n",
       "85    dept-b1-71    -690\n",
       "74    dept-b1-60    -651"
      ]
     },
     "execution_count": 52,
     "metadata": {},
     "output_type": "execute_result"
    }
   ],
   "source": [
    "dep_snp_b1.nsmallest(10,\"Profit\")"
   ]
  },
  {
   "cell_type": "markdown",
   "id": "2f5e7f3a",
   "metadata": {},
   "source": [
    "## Company \"B2\""
   ]
  },
  {
   "cell_type": "code",
   "execution_count": 53,
   "id": "406a5dc1",
   "metadata": {},
   "outputs": [
    {
     "data": {
      "text/html": [
       "<div>\n",
       "<style scoped>\n",
       "    .dataframe tbody tr th:only-of-type {\n",
       "        vertical-align: middle;\n",
       "    }\n",
       "\n",
       "    .dataframe tbody tr th {\n",
       "        vertical-align: top;\n",
       "    }\n",
       "\n",
       "    .dataframe thead th {\n",
       "        text-align: right;\n",
       "    }\n",
       "</style>\n",
       "<table border=\"1\" class=\"dataframe\">\n",
       "  <thead>\n",
       "    <tr style=\"text-align: right;\">\n",
       "      <th></th>\n",
       "      <th>CompanyName</th>\n",
       "      <th>Industry</th>\n",
       "      <th>Department</th>\n",
       "      <th>YearOfEstablishment</th>\n",
       "      <th>NetSales</th>\n",
       "      <th>CostofSales</th>\n",
       "      <th>Profit</th>\n",
       "    </tr>\n",
       "  </thead>\n",
       "  <tbody>\n",
       "    <tr>\n",
       "      <th>256</th>\n",
       "      <td>Company \"B2\"</td>\n",
       "      <td>Communications</td>\n",
       "      <td>dept-b2-01</td>\n",
       "      <td>1998</td>\n",
       "      <td>2257</td>\n",
       "      <td>501</td>\n",
       "      <td>1756</td>\n",
       "    </tr>\n",
       "    <tr>\n",
       "      <th>257</th>\n",
       "      <td>Company \"B2\"</td>\n",
       "      <td>Communications</td>\n",
       "      <td>dept-b2-02</td>\n",
       "      <td>1998</td>\n",
       "      <td>959</td>\n",
       "      <td>680</td>\n",
       "      <td>279</td>\n",
       "    </tr>\n",
       "    <tr>\n",
       "      <th>258</th>\n",
       "      <td>Company \"B2\"</td>\n",
       "      <td>Communications</td>\n",
       "      <td>dept-b2-03</td>\n",
       "      <td>1998</td>\n",
       "      <td>1701</td>\n",
       "      <td>771</td>\n",
       "      <td>930</td>\n",
       "    </tr>\n",
       "    <tr>\n",
       "      <th>259</th>\n",
       "      <td>Company \"B2\"</td>\n",
       "      <td>Communications</td>\n",
       "      <td>dept-b2-04</td>\n",
       "      <td>1998</td>\n",
       "      <td>1432</td>\n",
       "      <td>492</td>\n",
       "      <td>940</td>\n",
       "    </tr>\n",
       "    <tr>\n",
       "      <th>260</th>\n",
       "      <td>Company \"B2\"</td>\n",
       "      <td>Communications</td>\n",
       "      <td>dept-b2-05</td>\n",
       "      <td>1998</td>\n",
       "      <td>558</td>\n",
       "      <td>528</td>\n",
       "      <td>30</td>\n",
       "    </tr>\n",
       "  </tbody>\n",
       "</table>\n",
       "</div>"
      ],
      "text/plain": [
       "      CompanyName        Industry  Department  YearOfEstablishment  NetSales  \\\n",
       "256  Company \"B2\"  Communications  dept-b2-01                 1998      2257   \n",
       "257  Company \"B2\"  Communications  dept-b2-02                 1998       959   \n",
       "258  Company \"B2\"  Communications  dept-b2-03                 1998      1701   \n",
       "259  Company \"B2\"  Communications  dept-b2-04                 1998      1432   \n",
       "260  Company \"B2\"  Communications  dept-b2-05                 1998       558   \n",
       "\n",
       "     CostofSales  Profit  \n",
       "256          501    1756  \n",
       "257          680     279  \n",
       "258          771     930  \n",
       "259          492     940  \n",
       "260          528      30  "
      ]
     },
     "execution_count": 53,
     "metadata": {},
     "output_type": "execute_result"
    }
   ],
   "source": [
    "B2 = df.loc[df[\"CompanyName\"] == \"Company \\\"B2\\\"\"]\n",
    "B2.head()"
   ]
  },
  {
   "cell_type": "code",
   "execution_count": 54,
   "id": "a2565036",
   "metadata": {},
   "outputs": [
    {
     "data": {
      "text/plain": [
       "156"
      ]
     },
     "execution_count": 54,
     "metadata": {},
     "output_type": "execute_result"
    }
   ],
   "source": [
    "len(B2[\"Department\"])"
   ]
  },
  {
   "cell_type": "markdown",
   "id": "1a794b6b",
   "metadata": {},
   "source": [
    "Company \"B2\" has 156 departments"
   ]
  },
  {
   "cell_type": "code",
   "execution_count": 55,
   "id": "1537c47b",
   "metadata": {},
   "outputs": [
    {
     "data": {
      "text/plain": [
       "array(['Communications'], dtype=object)"
      ]
     },
     "execution_count": 55,
     "metadata": {},
     "output_type": "execute_result"
    }
   ],
   "source": [
    "B2[\"Industry\"].unique()"
   ]
  },
  {
   "cell_type": "markdown",
   "id": "1e1ae8dc",
   "metadata": {},
   "source": [
    "Company \"B2\" work on Comunications industry"
   ]
  },
  {
   "cell_type": "code",
   "execution_count": 56,
   "id": "2cfb4f5d",
   "metadata": {},
   "outputs": [
    {
     "data": {
      "image/png": "[encoded data removed]",
      "text/plain": [
       "<Figure size 640x480 with 1 Axes>"
      ]
     },
     "metadata": {},
     "output_type": "display_data"
    }
   ],
   "source": [
    "ind_snp4 = B2.groupby(\"Industry\")[[\"NetSales\",\"Profit\"]].sum().reset_index()\n",
    "\n",
    "\n",
    "plt.bar(ind_snp4[\"Industry\"],ind_snp4[\"NetSales\"],label = \"Net Sales\")\n",
    "plt.bar(ind_snp4[\"Industry\"],ind_snp4[\"Profit\"],label = \"Profit\")\n",
    "\n",
    "\n",
    "plt.legend()\n",
    "plt.show()"
   ]
  },
  {
   "cell_type": "markdown",
   "id": "a04dc661",
   "metadata": {},
   "source": [
    "Net sales, cost of sales and profit for Company \"B2\""
   ]
  },
  {
   "cell_type": "code",
   "execution_count": 57,
   "id": "c138200f",
   "metadata": {},
   "outputs": [
    {
     "data": {
      "text/html": [
       "<div>\n",
       "<style scoped>\n",
       "    .dataframe tbody tr th:only-of-type {\n",
       "        vertical-align: middle;\n",
       "    }\n",
       "\n",
       "    .dataframe tbody tr th {\n",
       "        vertical-align: top;\n",
       "    }\n",
       "\n",
       "    .dataframe thead th {\n",
       "        text-align: right;\n",
       "    }\n",
       "</style>\n",
       "<table border=\"1\" class=\"dataframe\">\n",
       "  <thead>\n",
       "    <tr style=\"text-align: right;\">\n",
       "      <th></th>\n",
       "      <th>index</th>\n",
       "      <th>0</th>\n",
       "    </tr>\n",
       "  </thead>\n",
       "  <tbody>\n",
       "    <tr>\n",
       "      <th>0</th>\n",
       "      <td>NetSales</td>\n",
       "      <td>226824</td>\n",
       "    </tr>\n",
       "    <tr>\n",
       "      <th>1</th>\n",
       "      <td>CostofSales</td>\n",
       "      <td>173748</td>\n",
       "    </tr>\n",
       "    <tr>\n",
       "      <th>2</th>\n",
       "      <td>Profit</td>\n",
       "      <td>53076</td>\n",
       "    </tr>\n",
       "  </tbody>\n",
       "</table>\n",
       "</div>"
      ],
      "text/plain": [
       "         index       0\n",
       "0     NetSales  226824\n",
       "1  CostofSales  173748\n",
       "2       Profit   53076"
      ]
     },
     "execution_count": 57,
     "metadata": {},
     "output_type": "execute_result"
    }
   ],
   "source": [
    "snp_b2 = B2[[\"NetSales\",\"CostofSales\",\"Profit\"]].sum().reset_index()\n",
    "snp_b2"
   ]
  },
  {
   "cell_type": "markdown",
   "id": "7fddc7db",
   "metadata": {},
   "source": [
    "Most profitable departments of Company \"B2\""
   ]
  },
  {
   "cell_type": "code",
   "execution_count": 58,
   "id": "85f05455",
   "metadata": {},
   "outputs": [
    {
     "data": {
      "text/html": [
       "<div>\n",
       "<style scoped>\n",
       "    .dataframe tbody tr th:only-of-type {\n",
       "        vertical-align: middle;\n",
       "    }\n",
       "\n",
       "    .dataframe tbody tr th {\n",
       "        vertical-align: top;\n",
       "    }\n",
       "\n",
       "    .dataframe thead th {\n",
       "        text-align: right;\n",
       "    }\n",
       "</style>\n",
       "<table border=\"1\" class=\"dataframe\">\n",
       "  <thead>\n",
       "    <tr style=\"text-align: right;\">\n",
       "      <th></th>\n",
       "      <th>Department</th>\n",
       "      <th>Profit</th>\n",
       "    </tr>\n",
       "  </thead>\n",
       "  <tbody>\n",
       "    <tr>\n",
       "      <th>11</th>\n",
       "      <td>dept-b2-101</td>\n",
       "      <td>1764</td>\n",
       "    </tr>\n",
       "    <tr>\n",
       "      <th>0</th>\n",
       "      <td>dept-b2-01</td>\n",
       "      <td>1756</td>\n",
       "    </tr>\n",
       "    <tr>\n",
       "      <th>98</th>\n",
       "      <td>dept-b2-42</td>\n",
       "      <td>1688</td>\n",
       "    </tr>\n",
       "    <tr>\n",
       "      <th>87</th>\n",
       "      <td>dept-b2-31</td>\n",
       "      <td>1649</td>\n",
       "    </tr>\n",
       "    <tr>\n",
       "      <th>37</th>\n",
       "      <td>dept-b2-125</td>\n",
       "      <td>1590</td>\n",
       "    </tr>\n",
       "    <tr>\n",
       "      <th>23</th>\n",
       "      <td>dept-b2-112</td>\n",
       "      <td>1572</td>\n",
       "    </tr>\n",
       "    <tr>\n",
       "      <th>28</th>\n",
       "      <td>dept-b2-117</td>\n",
       "      <td>1545</td>\n",
       "    </tr>\n",
       "    <tr>\n",
       "      <th>59</th>\n",
       "      <td>dept-b2-145</td>\n",
       "      <td>1545</td>\n",
       "    </tr>\n",
       "    <tr>\n",
       "      <th>105</th>\n",
       "      <td>dept-b2-49</td>\n",
       "      <td>1541</td>\n",
       "    </tr>\n",
       "    <tr>\n",
       "      <th>68</th>\n",
       "      <td>dept-b2-153</td>\n",
       "      <td>1509</td>\n",
       "    </tr>\n",
       "  </tbody>\n",
       "</table>\n",
       "</div>"
      ],
      "text/plain": [
       "      Department  Profit\n",
       "11   dept-b2-101    1764\n",
       "0     dept-b2-01    1756\n",
       "98    dept-b2-42    1688\n",
       "87    dept-b2-31    1649\n",
       "37   dept-b2-125    1590\n",
       "23   dept-b2-112    1572\n",
       "28   dept-b2-117    1545\n",
       "59   dept-b2-145    1545\n",
       "105   dept-b2-49    1541\n",
       "68   dept-b2-153    1509"
      ]
     },
     "execution_count": 58,
     "metadata": {},
     "output_type": "execute_result"
    }
   ],
   "source": [
    "dep_snp_b2 = B2.groupby(\"Department\")[\"Profit\"].sum().reset_index()\n",
    "dep_snp_b2.nlargest(10,\"Profit\")"
   ]
  },
  {
   "cell_type": "markdown",
   "id": "812357ab",
   "metadata": {},
   "source": [
    "Least profitable departments of Company \"B2\""
   ]
  },
  {
   "cell_type": "code",
   "execution_count": 59,
   "id": "f17b1cbf",
   "metadata": {},
   "outputs": [
    {
     "data": {
      "text/html": [
       "<div>\n",
       "<style scoped>\n",
       "    .dataframe tbody tr th:only-of-type {\n",
       "        vertical-align: middle;\n",
       "    }\n",
       "\n",
       "    .dataframe tbody tr th {\n",
       "        vertical-align: top;\n",
       "    }\n",
       "\n",
       "    .dataframe thead th {\n",
       "        text-align: right;\n",
       "    }\n",
       "</style>\n",
       "<table border=\"1\" class=\"dataframe\">\n",
       "  <thead>\n",
       "    <tr style=\"text-align: right;\">\n",
       "      <th></th>\n",
       "      <th>Department</th>\n",
       "      <th>Profit</th>\n",
       "    </tr>\n",
       "  </thead>\n",
       "  <tbody>\n",
       "    <tr>\n",
       "      <th>12</th>\n",
       "      <td>dept-b2-102</td>\n",
       "      <td>-1016</td>\n",
       "    </tr>\n",
       "    <tr>\n",
       "      <th>14</th>\n",
       "      <td>dept-b2-104</td>\n",
       "      <td>-983</td>\n",
       "    </tr>\n",
       "    <tr>\n",
       "      <th>91</th>\n",
       "      <td>dept-b2-35</td>\n",
       "      <td>-979</td>\n",
       "    </tr>\n",
       "    <tr>\n",
       "      <th>9</th>\n",
       "      <td>dept-b2-10</td>\n",
       "      <td>-932</td>\n",
       "    </tr>\n",
       "    <tr>\n",
       "      <th>18</th>\n",
       "      <td>dept-b2-108</td>\n",
       "      <td>-890</td>\n",
       "    </tr>\n",
       "    <tr>\n",
       "      <th>67</th>\n",
       "      <td>dept-b2-152</td>\n",
       "      <td>-874</td>\n",
       "    </tr>\n",
       "    <tr>\n",
       "      <th>62</th>\n",
       "      <td>dept-b2-148</td>\n",
       "      <td>-829</td>\n",
       "    </tr>\n",
       "    <tr>\n",
       "      <th>108</th>\n",
       "      <td>dept-b2-52</td>\n",
       "      <td>-783</td>\n",
       "    </tr>\n",
       "    <tr>\n",
       "      <th>90</th>\n",
       "      <td>dept-b2-34</td>\n",
       "      <td>-682</td>\n",
       "    </tr>\n",
       "    <tr>\n",
       "      <th>22</th>\n",
       "      <td>dept-b2-111</td>\n",
       "      <td>-628</td>\n",
       "    </tr>\n",
       "  </tbody>\n",
       "</table>\n",
       "</div>"
      ],
      "text/plain": [
       "      Department  Profit\n",
       "12   dept-b2-102   -1016\n",
       "14   dept-b2-104    -983\n",
       "91    dept-b2-35    -979\n",
       "9     dept-b2-10    -932\n",
       "18   dept-b2-108    -890\n",
       "67   dept-b2-152    -874\n",
       "62   dept-b2-148    -829\n",
       "108   dept-b2-52    -783\n",
       "90    dept-b2-34    -682\n",
       "22   dept-b2-111    -628"
      ]
     },
     "execution_count": 59,
     "metadata": {},
     "output_type": "execute_result"
    }
   ],
   "source": [
    "dep_snp_b2.nsmallest(10,\"Profit\")"
   ]
  },
  {
   "cell_type": "markdown",
   "id": "f982f0fe",
   "metadata": {},
   "source": [
    "## Company \"B3\""
   ]
  },
  {
   "cell_type": "code",
   "execution_count": 60,
   "id": "cea72977",
   "metadata": {},
   "outputs": [
    {
     "data": {
      "text/html": [
       "<div>\n",
       "<style scoped>\n",
       "    .dataframe tbody tr th:only-of-type {\n",
       "        vertical-align: middle;\n",
       "    }\n",
       "\n",
       "    .dataframe tbody tr th {\n",
       "        vertical-align: top;\n",
       "    }\n",
       "\n",
       "    .dataframe thead th {\n",
       "        text-align: right;\n",
       "    }\n",
       "</style>\n",
       "<table border=\"1\" class=\"dataframe\">\n",
       "  <thead>\n",
       "    <tr style=\"text-align: right;\">\n",
       "      <th></th>\n",
       "      <th>CompanyName</th>\n",
       "      <th>Industry</th>\n",
       "      <th>Department</th>\n",
       "      <th>YearOfEstablishment</th>\n",
       "      <th>NetSales</th>\n",
       "      <th>CostofSales</th>\n",
       "      <th>Profit</th>\n",
       "    </tr>\n",
       "  </thead>\n",
       "  <tbody>\n",
       "    <tr>\n",
       "      <th>412</th>\n",
       "      <td>Company \"B3\"</td>\n",
       "      <td>Communications</td>\n",
       "      <td>dept-b3-01</td>\n",
       "      <td>2001</td>\n",
       "      <td>1098</td>\n",
       "      <td>1117</td>\n",
       "      <td>-19</td>\n",
       "    </tr>\n",
       "    <tr>\n",
       "      <th>413</th>\n",
       "      <td>Company \"B3\"</td>\n",
       "      <td>Communications</td>\n",
       "      <td>dept-b3-02</td>\n",
       "      <td>2001</td>\n",
       "      <td>2294</td>\n",
       "      <td>1192</td>\n",
       "      <td>1102</td>\n",
       "    </tr>\n",
       "    <tr>\n",
       "      <th>414</th>\n",
       "      <td>Company \"B3\"</td>\n",
       "      <td>Communications</td>\n",
       "      <td>dept-b3-03</td>\n",
       "      <td>2001</td>\n",
       "      <td>946</td>\n",
       "      <td>654</td>\n",
       "      <td>292</td>\n",
       "    </tr>\n",
       "    <tr>\n",
       "      <th>415</th>\n",
       "      <td>Company \"B3\"</td>\n",
       "      <td>Communications</td>\n",
       "      <td>dept-b3-04</td>\n",
       "      <td>2001</td>\n",
       "      <td>1190</td>\n",
       "      <td>743</td>\n",
       "      <td>447</td>\n",
       "    </tr>\n",
       "    <tr>\n",
       "      <th>416</th>\n",
       "      <td>Company \"B3\"</td>\n",
       "      <td>Communications</td>\n",
       "      <td>dept-b3-05</td>\n",
       "      <td>2001</td>\n",
       "      <td>2042</td>\n",
       "      <td>1299</td>\n",
       "      <td>743</td>\n",
       "    </tr>\n",
       "  </tbody>\n",
       "</table>\n",
       "</div>"
      ],
      "text/plain": [
       "      CompanyName        Industry  Department  YearOfEstablishment  NetSales  \\\n",
       "412  Company \"B3\"  Communications  dept-b3-01                 2001      1098   \n",
       "413  Company \"B3\"  Communications  dept-b3-02                 2001      2294   \n",
       "414  Company \"B3\"  Communications  dept-b3-03                 2001       946   \n",
       "415  Company \"B3\"  Communications  dept-b3-04                 2001      1190   \n",
       "416  Company \"B3\"  Communications  dept-b3-05                 2001      2042   \n",
       "\n",
       "     CostofSales  Profit  \n",
       "412         1117     -19  \n",
       "413         1192    1102  \n",
       "414          654     292  \n",
       "415          743     447  \n",
       "416         1299     743  "
      ]
     },
     "execution_count": 60,
     "metadata": {},
     "output_type": "execute_result"
    }
   ],
   "source": [
    "B3 = df.loc[df[\"CompanyName\"] == \"Company \\\"B3\\\"\"]\n",
    "B3.head()"
   ]
  },
  {
   "cell_type": "code",
   "execution_count": 61,
   "id": "0c91dde7",
   "metadata": {},
   "outputs": [
    {
     "data": {
      "text/plain": [
       "58"
      ]
     },
     "execution_count": 61,
     "metadata": {},
     "output_type": "execute_result"
    }
   ],
   "source": [
    "len(B3[\"Department\"])"
   ]
  },
  {
   "cell_type": "markdown",
   "id": "cbcf66a2",
   "metadata": {},
   "source": [
    "Company \"B3\" has 58 departments"
   ]
  },
  {
   "cell_type": "code",
   "execution_count": 62,
   "id": "8c21a16f",
   "metadata": {},
   "outputs": [
    {
     "data": {
      "text/plain": [
       "array(['Communications', 'Media'], dtype=object)"
      ]
     },
     "execution_count": 62,
     "metadata": {},
     "output_type": "execute_result"
    }
   ],
   "source": [
    "B3[\"Industry\"].unique()"
   ]
  },
  {
   "cell_type": "markdown",
   "id": "559b9204",
   "metadata": {},
   "source": [
    "Company \"B3\" works on comunucations and media industries"
   ]
  },
  {
   "cell_type": "code",
   "execution_count": 63,
   "id": "8b04f776",
   "metadata": {},
   "outputs": [
    {
     "data": {
      "image/png": "[encoded data removed]",
      "text/plain": [
       "<Figure size 640x480 with 1 Axes>"
      ]
     },
     "metadata": {},
     "output_type": "display_data"
    }
   ],
   "source": [
    "ind_snp5 = B3.groupby(\"Industry\")[[\"NetSales\",\"Profit\"]].sum().reset_index()\n",
    "\n",
    "\n",
    "plt.bar(ind_snp5[\"Industry\"],ind_snp5[\"NetSales\"],label = \"Net Sales\")\n",
    "plt.bar(ind_snp5[\"Industry\"],ind_snp5[\"Profit\"],label = \"Profit\")\n",
    "\n",
    "\n",
    "plt.legend()\n",
    "plt.show()"
   ]
  },
  {
   "cell_type": "markdown",
   "id": "1b37d165",
   "metadata": {},
   "source": [
    "As seen in the graph we can say that Company \"B2\"'s profit mostly comes from media"
   ]
  },
  {
   "cell_type": "markdown",
   "id": "f2c72ca1",
   "metadata": {},
   "source": [
    "Net sales, cost of sales and profit for Company \"B3\""
   ]
  },
  {
   "cell_type": "code",
   "execution_count": 64,
   "id": "0f82c9fd",
   "metadata": {},
   "outputs": [
    {
     "data": {
      "text/html": [
       "<div>\n",
       "<style scoped>\n",
       "    .dataframe tbody tr th:only-of-type {\n",
       "        vertical-align: middle;\n",
       "    }\n",
       "\n",
       "    .dataframe tbody tr th {\n",
       "        vertical-align: top;\n",
       "    }\n",
       "\n",
       "    .dataframe thead th {\n",
       "        text-align: right;\n",
       "    }\n",
       "</style>\n",
       "<table border=\"1\" class=\"dataframe\">\n",
       "  <thead>\n",
       "    <tr style=\"text-align: right;\">\n",
       "      <th></th>\n",
       "      <th>index</th>\n",
       "      <th>0</th>\n",
       "    </tr>\n",
       "  </thead>\n",
       "  <tbody>\n",
       "    <tr>\n",
       "      <th>0</th>\n",
       "      <td>NetSales</td>\n",
       "      <td>86254</td>\n",
       "    </tr>\n",
       "    <tr>\n",
       "      <th>1</th>\n",
       "      <td>CostofSales</td>\n",
       "      <td>65823</td>\n",
       "    </tr>\n",
       "    <tr>\n",
       "      <th>2</th>\n",
       "      <td>Profit</td>\n",
       "      <td>20431</td>\n",
       "    </tr>\n",
       "  </tbody>\n",
       "</table>\n",
       "</div>"
      ],
      "text/plain": [
       "         index      0\n",
       "0     NetSales  86254\n",
       "1  CostofSales  65823\n",
       "2       Profit  20431"
      ]
     },
     "execution_count": 64,
     "metadata": {},
     "output_type": "execute_result"
    }
   ],
   "source": [
    "snp_b3 = B3[[\"NetSales\",\"CostofSales\",\"Profit\"]].sum().reset_index()\n",
    "snp_b3"
   ]
  },
  {
   "cell_type": "markdown",
   "id": "22d06649",
   "metadata": {},
   "source": [
    "Most profitable departments of Company \"B3\""
   ]
  },
  {
   "cell_type": "code",
   "execution_count": 65,
   "id": "d29346dd",
   "metadata": {},
   "outputs": [
    {
     "data": {
      "text/html": [
       "<div>\n",
       "<style scoped>\n",
       "    .dataframe tbody tr th:only-of-type {\n",
       "        vertical-align: middle;\n",
       "    }\n",
       "\n",
       "    .dataframe tbody tr th {\n",
       "        vertical-align: top;\n",
       "    }\n",
       "\n",
       "    .dataframe thead th {\n",
       "        text-align: right;\n",
       "    }\n",
       "</style>\n",
       "<table border=\"1\" class=\"dataframe\">\n",
       "  <thead>\n",
       "    <tr style=\"text-align: right;\">\n",
       "      <th></th>\n",
       "      <th>Department</th>\n",
       "      <th>Profit</th>\n",
       "    </tr>\n",
       "  </thead>\n",
       "  <tbody>\n",
       "    <tr>\n",
       "      <th>25</th>\n",
       "      <td>dept-b3-26</td>\n",
       "      <td>1746</td>\n",
       "    </tr>\n",
       "    <tr>\n",
       "      <th>44</th>\n",
       "      <td>dept-b3-45</td>\n",
       "      <td>1665</td>\n",
       "    </tr>\n",
       "    <tr>\n",
       "      <th>39</th>\n",
       "      <td>dept-b3-40</td>\n",
       "      <td>1663</td>\n",
       "    </tr>\n",
       "    <tr>\n",
       "      <th>34</th>\n",
       "      <td>dept-b3-35</td>\n",
       "      <td>1433</td>\n",
       "    </tr>\n",
       "    <tr>\n",
       "      <th>35</th>\n",
       "      <td>dept-b3-36</td>\n",
       "      <td>1273</td>\n",
       "    </tr>\n",
       "    <tr>\n",
       "      <th>1</th>\n",
       "      <td>dept-b3-02</td>\n",
       "      <td>1102</td>\n",
       "    </tr>\n",
       "    <tr>\n",
       "      <th>29</th>\n",
       "      <td>dept-b3-30</td>\n",
       "      <td>1076</td>\n",
       "    </tr>\n",
       "    <tr>\n",
       "      <th>7</th>\n",
       "      <td>dept-b3-08</td>\n",
       "      <td>1016</td>\n",
       "    </tr>\n",
       "    <tr>\n",
       "      <th>12</th>\n",
       "      <td>dept-b3-13</td>\n",
       "      <td>1004</td>\n",
       "    </tr>\n",
       "    <tr>\n",
       "      <th>55</th>\n",
       "      <td>dept-b3-56</td>\n",
       "      <td>960</td>\n",
       "    </tr>\n",
       "  </tbody>\n",
       "</table>\n",
       "</div>"
      ],
      "text/plain": [
       "    Department  Profit\n",
       "25  dept-b3-26    1746\n",
       "44  dept-b3-45    1665\n",
       "39  dept-b3-40    1663\n",
       "34  dept-b3-35    1433\n",
       "35  dept-b3-36    1273\n",
       "1   dept-b3-02    1102\n",
       "29  dept-b3-30    1076\n",
       "7   dept-b3-08    1016\n",
       "12  dept-b3-13    1004\n",
       "55  dept-b3-56     960"
      ]
     },
     "execution_count": 65,
     "metadata": {},
     "output_type": "execute_result"
    }
   ],
   "source": [
    "dep_snp_b3 = B3.groupby(\"Department\")[\"Profit\"].sum().reset_index()\n",
    "dep_snp_b3.nlargest(10,\"Profit\")"
   ]
  },
  {
   "cell_type": "markdown",
   "id": "8739a0a3",
   "metadata": {},
   "source": [
    "Least profitable departments of Company \"B3\""
   ]
  },
  {
   "cell_type": "code",
   "execution_count": 66,
   "id": "79129822",
   "metadata": {},
   "outputs": [
    {
     "data": {
      "text/html": [
       "<div>\n",
       "<style scoped>\n",
       "    .dataframe tbody tr th:only-of-type {\n",
       "        vertical-align: middle;\n",
       "    }\n",
       "\n",
       "    .dataframe tbody tr th {\n",
       "        vertical-align: top;\n",
       "    }\n",
       "\n",
       "    .dataframe thead th {\n",
       "        text-align: right;\n",
       "    }\n",
       "</style>\n",
       "<table border=\"1\" class=\"dataframe\">\n",
       "  <thead>\n",
       "    <tr style=\"text-align: right;\">\n",
       "      <th></th>\n",
       "      <th>Department</th>\n",
       "      <th>Profit</th>\n",
       "    </tr>\n",
       "  </thead>\n",
       "  <tbody>\n",
       "    <tr>\n",
       "      <th>18</th>\n",
       "      <td>dept-b3-19</td>\n",
       "      <td>-911</td>\n",
       "    </tr>\n",
       "    <tr>\n",
       "      <th>31</th>\n",
       "      <td>dept-b3-32</td>\n",
       "      <td>-888</td>\n",
       "    </tr>\n",
       "    <tr>\n",
       "      <th>48</th>\n",
       "      <td>dept-b3-49</td>\n",
       "      <td>-851</td>\n",
       "    </tr>\n",
       "    <tr>\n",
       "      <th>56</th>\n",
       "      <td>dept-b3-57</td>\n",
       "      <td>-677</td>\n",
       "    </tr>\n",
       "    <tr>\n",
       "      <th>53</th>\n",
       "      <td>dept-b3-54</td>\n",
       "      <td>-623</td>\n",
       "    </tr>\n",
       "    <tr>\n",
       "      <th>54</th>\n",
       "      <td>dept-b3-55</td>\n",
       "      <td>-487</td>\n",
       "    </tr>\n",
       "    <tr>\n",
       "      <th>16</th>\n",
       "      <td>dept-b3-17</td>\n",
       "      <td>-400</td>\n",
       "    </tr>\n",
       "    <tr>\n",
       "      <th>13</th>\n",
       "      <td>dept-b3-14</td>\n",
       "      <td>-370</td>\n",
       "    </tr>\n",
       "    <tr>\n",
       "      <th>49</th>\n",
       "      <td>dept-b3-50</td>\n",
       "      <td>-330</td>\n",
       "    </tr>\n",
       "    <tr>\n",
       "      <th>52</th>\n",
       "      <td>dept-b3-53</td>\n",
       "      <td>-272</td>\n",
       "    </tr>\n",
       "  </tbody>\n",
       "</table>\n",
       "</div>"
      ],
      "text/plain": [
       "    Department  Profit\n",
       "18  dept-b3-19    -911\n",
       "31  dept-b3-32    -888\n",
       "48  dept-b3-49    -851\n",
       "56  dept-b3-57    -677\n",
       "53  dept-b3-54    -623\n",
       "54  dept-b3-55    -487\n",
       "16  dept-b3-17    -400\n",
       "13  dept-b3-14    -370\n",
       "49  dept-b3-50    -330\n",
       "52  dept-b3-53    -272"
      ]
     },
     "execution_count": 66,
     "metadata": {},
     "output_type": "execute_result"
    }
   ],
   "source": [
    "dep_snp_b3.nsmallest(10,\"Profit\")"
   ]
  },
  {
   "cell_type": "markdown",
   "id": "a1f39d8a",
   "metadata": {},
   "source": [
    "## Company \"C\""
   ]
  },
  {
   "cell_type": "code",
   "execution_count": 67,
   "id": "2cfafca9",
   "metadata": {},
   "outputs": [
    {
     "data": {
      "text/html": [
       "<div>\n",
       "<style scoped>\n",
       "    .dataframe tbody tr th:only-of-type {\n",
       "        vertical-align: middle;\n",
       "    }\n",
       "\n",
       "    .dataframe tbody tr th {\n",
       "        vertical-align: top;\n",
       "    }\n",
       "\n",
       "    .dataframe thead th {\n",
       "        text-align: right;\n",
       "    }\n",
       "</style>\n",
       "<table border=\"1\" class=\"dataframe\">\n",
       "  <thead>\n",
       "    <tr style=\"text-align: right;\">\n",
       "      <th></th>\n",
       "      <th>CompanyName</th>\n",
       "      <th>Industry</th>\n",
       "      <th>Department</th>\n",
       "      <th>YearOfEstablishment</th>\n",
       "      <th>NetSales</th>\n",
       "      <th>CostofSales</th>\n",
       "      <th>Profit</th>\n",
       "    </tr>\n",
       "  </thead>\n",
       "  <tbody>\n",
       "    <tr>\n",
       "      <th>470</th>\n",
       "      <td>Company \"C\"</td>\n",
       "      <td>Pharmaceutical Industry</td>\n",
       "      <td>dept-c-01</td>\n",
       "      <td>2007</td>\n",
       "      <td>801</td>\n",
       "      <td>1734</td>\n",
       "      <td>-933</td>\n",
       "    </tr>\n",
       "    <tr>\n",
       "      <th>471</th>\n",
       "      <td>Company \"C\"</td>\n",
       "      <td>Pharmaceutical Industry</td>\n",
       "      <td>dept-c-02</td>\n",
       "      <td>2007</td>\n",
       "      <td>1476</td>\n",
       "      <td>1197</td>\n",
       "      <td>279</td>\n",
       "    </tr>\n",
       "    <tr>\n",
       "      <th>472</th>\n",
       "      <td>Company \"C\"</td>\n",
       "      <td>Pharmaceutical Industry</td>\n",
       "      <td>dept-c-03</td>\n",
       "      <td>2007</td>\n",
       "      <td>691</td>\n",
       "      <td>1514</td>\n",
       "      <td>-823</td>\n",
       "    </tr>\n",
       "    <tr>\n",
       "      <th>473</th>\n",
       "      <td>Company \"C\"</td>\n",
       "      <td>Pharmaceutical Industry</td>\n",
       "      <td>dept-c-04</td>\n",
       "      <td>2007</td>\n",
       "      <td>970</td>\n",
       "      <td>1271</td>\n",
       "      <td>-301</td>\n",
       "    </tr>\n",
       "    <tr>\n",
       "      <th>474</th>\n",
       "      <td>Company \"C\"</td>\n",
       "      <td>Pharmaceutical Industry</td>\n",
       "      <td>dept-c-05</td>\n",
       "      <td>2007</td>\n",
       "      <td>2278</td>\n",
       "      <td>900</td>\n",
       "      <td>1378</td>\n",
       "    </tr>\n",
       "  </tbody>\n",
       "</table>\n",
       "</div>"
      ],
      "text/plain": [
       "     CompanyName                 Industry Department  YearOfEstablishment  \\\n",
       "470  Company \"C\"  Pharmaceutical Industry  dept-c-01                 2007   \n",
       "471  Company \"C\"  Pharmaceutical Industry  dept-c-02                 2007   \n",
       "472  Company \"C\"  Pharmaceutical Industry  dept-c-03                 2007   \n",
       "473  Company \"C\"  Pharmaceutical Industry  dept-c-04                 2007   \n",
       "474  Company \"C\"  Pharmaceutical Industry  dept-c-05                 2007   \n",
       "\n",
       "     NetSales  CostofSales  Profit  \n",
       "470       801         1734    -933  \n",
       "471      1476         1197     279  \n",
       "472       691         1514    -823  \n",
       "473       970         1271    -301  \n",
       "474      2278          900    1378  "
      ]
     },
     "execution_count": 67,
     "metadata": {},
     "output_type": "execute_result"
    }
   ],
   "source": [
    "C = df.loc[df[\"CompanyName\"] == \"Company \\\"C\\\"\"]\n",
    "C.head()"
   ]
  },
  {
   "cell_type": "code",
   "execution_count": 68,
   "id": "0376e3bb",
   "metadata": {},
   "outputs": [
    {
     "data": {
      "text/plain": [
       "30"
      ]
     },
     "execution_count": 68,
     "metadata": {},
     "output_type": "execute_result"
    }
   ],
   "source": [
    "len(C[\"Department\"])"
   ]
  },
  {
   "cell_type": "markdown",
   "id": "0a14211f",
   "metadata": {},
   "source": [
    "Company \"C\" has 30 departments"
   ]
  },
  {
   "cell_type": "code",
   "execution_count": 69,
   "id": "8cdf4226",
   "metadata": {},
   "outputs": [
    {
     "data": {
      "text/plain": [
       "array(['Pharmaceutical Industry'], dtype=object)"
      ]
     },
     "execution_count": 69,
     "metadata": {},
     "output_type": "execute_result"
    }
   ],
   "source": [
    "C[\"Industry\"].unique()"
   ]
  },
  {
   "cell_type": "markdown",
   "id": "f0b6b850",
   "metadata": {},
   "source": [
    "Company \"B3\" works on pharmaceutical industry"
   ]
  },
  {
   "cell_type": "code",
   "execution_count": 70,
   "id": "65fc4a21",
   "metadata": {},
   "outputs": [
    {
     "data": {
      "image/png": "[encoded data removed]",
      "text/plain": [
       "<Figure size 640x480 with 1 Axes>"
      ]
     },
     "metadata": {},
     "output_type": "display_data"
    }
   ],
   "source": [
    "ind_snp6 = C.groupby(\"Industry\")[[\"NetSales\",\"Profit\"]].sum().reset_index()\n",
    "\n",
    "\n",
    "plt.bar(ind_snp6[\"Industry\"],ind_snp6[\"NetSales\"],label = \"Net Sales\")\n",
    "plt.bar(ind_snp6[\"Industry\"],ind_snp6[\"Profit\"],label = \"Profit\")\n",
    "\n",
    "\n",
    "plt.legend()\n",
    "plt.show()"
   ]
  },
  {
   "cell_type": "markdown",
   "id": "57c06e8f",
   "metadata": {},
   "source": [
    "Seems like they are not making any profit"
   ]
  },
  {
   "cell_type": "markdown",
   "id": "a53ebe28",
   "metadata": {},
   "source": [
    "Net sales, cost of sales and profit for Company \"C\""
   ]
  },
  {
   "cell_type": "code",
   "execution_count": 71,
   "id": "dd64f7f8",
   "metadata": {},
   "outputs": [
    {
     "data": {
      "text/html": [
       "<div>\n",
       "<style scoped>\n",
       "    .dataframe tbody tr th:only-of-type {\n",
       "        vertical-align: middle;\n",
       "    }\n",
       "\n",
       "    .dataframe tbody tr th {\n",
       "        vertical-align: top;\n",
       "    }\n",
       "\n",
       "    .dataframe thead th {\n",
       "        text-align: right;\n",
       "    }\n",
       "</style>\n",
       "<table border=\"1\" class=\"dataframe\">\n",
       "  <thead>\n",
       "    <tr style=\"text-align: right;\">\n",
       "      <th></th>\n",
       "      <th>index</th>\n",
       "      <th>0</th>\n",
       "    </tr>\n",
       "  </thead>\n",
       "  <tbody>\n",
       "    <tr>\n",
       "      <th>0</th>\n",
       "      <td>NetSales</td>\n",
       "      <td>36210</td>\n",
       "    </tr>\n",
       "    <tr>\n",
       "      <th>1</th>\n",
       "      <td>CostofSales</td>\n",
       "      <td>36213</td>\n",
       "    </tr>\n",
       "    <tr>\n",
       "      <th>2</th>\n",
       "      <td>Profit</td>\n",
       "      <td>-3</td>\n",
       "    </tr>\n",
       "  </tbody>\n",
       "</table>\n",
       "</div>"
      ],
      "text/plain": [
       "         index      0\n",
       "0     NetSales  36210\n",
       "1  CostofSales  36213\n",
       "2       Profit     -3"
      ]
     },
     "execution_count": 71,
     "metadata": {},
     "output_type": "execute_result"
    }
   ],
   "source": [
    "snp_c = C[[\"NetSales\",\"CostofSales\",\"Profit\"]].sum().reset_index()\n",
    "snp_c"
   ]
  },
  {
   "cell_type": "markdown",
   "id": "fc5eb13e",
   "metadata": {},
   "source": [
    "Most profitable departments of Company \"C\""
   ]
  },
  {
   "cell_type": "code",
   "execution_count": 72,
   "id": "e255d542",
   "metadata": {},
   "outputs": [
    {
     "data": {
      "text/html": [
       "<div>\n",
       "<style scoped>\n",
       "    .dataframe tbody tr th:only-of-type {\n",
       "        vertical-align: middle;\n",
       "    }\n",
       "\n",
       "    .dataframe tbody tr th {\n",
       "        vertical-align: top;\n",
       "    }\n",
       "\n",
       "    .dataframe thead th {\n",
       "        text-align: right;\n",
       "    }\n",
       "</style>\n",
       "<table border=\"1\" class=\"dataframe\">\n",
       "  <thead>\n",
       "    <tr style=\"text-align: right;\">\n",
       "      <th></th>\n",
       "      <th>Department</th>\n",
       "      <th>Profit</th>\n",
       "    </tr>\n",
       "  </thead>\n",
       "  <tbody>\n",
       "    <tr>\n",
       "      <th>4</th>\n",
       "      <td>dept-c-05</td>\n",
       "      <td>1378</td>\n",
       "    </tr>\n",
       "    <tr>\n",
       "      <th>21</th>\n",
       "      <td>dept-c-22</td>\n",
       "      <td>1018</td>\n",
       "    </tr>\n",
       "    <tr>\n",
       "      <th>28</th>\n",
       "      <td>dept-c-29</td>\n",
       "      <td>771</td>\n",
       "    </tr>\n",
       "    <tr>\n",
       "      <th>22</th>\n",
       "      <td>dept-c-23</td>\n",
       "      <td>664</td>\n",
       "    </tr>\n",
       "    <tr>\n",
       "      <th>13</th>\n",
       "      <td>dept-c-14</td>\n",
       "      <td>597</td>\n",
       "    </tr>\n",
       "    <tr>\n",
       "      <th>26</th>\n",
       "      <td>dept-c-27</td>\n",
       "      <td>573</td>\n",
       "    </tr>\n",
       "    <tr>\n",
       "      <th>10</th>\n",
       "      <td>dept-c-11</td>\n",
       "      <td>572</td>\n",
       "    </tr>\n",
       "    <tr>\n",
       "      <th>16</th>\n",
       "      <td>dept-c-17</td>\n",
       "      <td>556</td>\n",
       "    </tr>\n",
       "    <tr>\n",
       "      <th>17</th>\n",
       "      <td>dept-c-18</td>\n",
       "      <td>453</td>\n",
       "    </tr>\n",
       "    <tr>\n",
       "      <th>14</th>\n",
       "      <td>dept-c-15</td>\n",
       "      <td>425</td>\n",
       "    </tr>\n",
       "  </tbody>\n",
       "</table>\n",
       "</div>"
      ],
      "text/plain": [
       "   Department  Profit\n",
       "4   dept-c-05    1378\n",
       "21  dept-c-22    1018\n",
       "28  dept-c-29     771\n",
       "22  dept-c-23     664\n",
       "13  dept-c-14     597\n",
       "26  dept-c-27     573\n",
       "10  dept-c-11     572\n",
       "16  dept-c-17     556\n",
       "17  dept-c-18     453\n",
       "14  dept-c-15     425"
      ]
     },
     "execution_count": 72,
     "metadata": {},
     "output_type": "execute_result"
    }
   ],
   "source": [
    "dep_snp_c = C.groupby(\"Department\")[\"Profit\"].sum().reset_index()\n",
    "dep_snp_c.nlargest(10,\"Profit\")"
   ]
  },
  {
   "cell_type": "markdown",
   "id": "c5c5181e",
   "metadata": {},
   "source": [
    "Least profitable departments of Company \"C\""
   ]
  },
  {
   "cell_type": "code",
   "execution_count": 73,
   "id": "7248a107",
   "metadata": {},
   "outputs": [
    {
     "data": {
      "text/html": [
       "<div>\n",
       "<style scoped>\n",
       "    .dataframe tbody tr th:only-of-type {\n",
       "        vertical-align: middle;\n",
       "    }\n",
       "\n",
       "    .dataframe tbody tr th {\n",
       "        vertical-align: top;\n",
       "    }\n",
       "\n",
       "    .dataframe thead th {\n",
       "        text-align: right;\n",
       "    }\n",
       "</style>\n",
       "<table border=\"1\" class=\"dataframe\">\n",
       "  <thead>\n",
       "    <tr style=\"text-align: right;\">\n",
       "      <th></th>\n",
       "      <th>Department</th>\n",
       "      <th>Profit</th>\n",
       "    </tr>\n",
       "  </thead>\n",
       "  <tbody>\n",
       "    <tr>\n",
       "      <th>0</th>\n",
       "      <td>dept-c-01</td>\n",
       "      <td>-933</td>\n",
       "    </tr>\n",
       "    <tr>\n",
       "      <th>2</th>\n",
       "      <td>dept-c-03</td>\n",
       "      <td>-823</td>\n",
       "    </tr>\n",
       "    <tr>\n",
       "      <th>29</th>\n",
       "      <td>dept-c-30</td>\n",
       "      <td>-822</td>\n",
       "    </tr>\n",
       "    <tr>\n",
       "      <th>19</th>\n",
       "      <td>dept-c-20</td>\n",
       "      <td>-772</td>\n",
       "    </tr>\n",
       "    <tr>\n",
       "      <th>12</th>\n",
       "      <td>dept-c-13</td>\n",
       "      <td>-756</td>\n",
       "    </tr>\n",
       "    <tr>\n",
       "      <th>15</th>\n",
       "      <td>dept-c-16</td>\n",
       "      <td>-709</td>\n",
       "    </tr>\n",
       "    <tr>\n",
       "      <th>18</th>\n",
       "      <td>dept-c-19</td>\n",
       "      <td>-658</td>\n",
       "    </tr>\n",
       "    <tr>\n",
       "      <th>25</th>\n",
       "      <td>dept-c-26</td>\n",
       "      <td>-656</td>\n",
       "    </tr>\n",
       "    <tr>\n",
       "      <th>8</th>\n",
       "      <td>dept-c-09</td>\n",
       "      <td>-563</td>\n",
       "    </tr>\n",
       "    <tr>\n",
       "      <th>7</th>\n",
       "      <td>dept-c-08</td>\n",
       "      <td>-517</td>\n",
       "    </tr>\n",
       "  </tbody>\n",
       "</table>\n",
       "</div>"
      ],
      "text/plain": [
       "   Department  Profit\n",
       "0   dept-c-01    -933\n",
       "2   dept-c-03    -823\n",
       "29  dept-c-30    -822\n",
       "19  dept-c-20    -772\n",
       "12  dept-c-13    -756\n",
       "15  dept-c-16    -709\n",
       "18  dept-c-19    -658\n",
       "25  dept-c-26    -656\n",
       "8   dept-c-09    -563\n",
       "7   dept-c-08    -517"
      ]
     },
     "execution_count": 73,
     "metadata": {},
     "output_type": "execute_result"
    }
   ],
   "source": [
    "dep_snp_c.nsmallest(10,\"Profit\")"
   ]
  },
  {
   "cell_type": "code",
   "execution_count": null,
   "id": "48c5e05b",
   "metadata": {},
   "outputs": [],
   "source": []
  }
 ],
 "metadata": {
  "kernelspec": {
   "display_name": "Python 3 (ipykernel)",
   "language": "python",
   "name": "python3"
  },
  "language_info": {
   "codemirror_mode": {
    "name": "ipython",
    "version": 3
   },
   "file_extension": ".py",
   "mimetype": "text/x-python",
   "name": "python",
   "nbconvert_exporter": "python",
   "pygments_lexer": "ipython3",
   "version": "3.11.5"
  }
 },
 "nbformat": 4,
 "nbformat_minor": 5
}
